{
 "cells": [
  {
   "cell_type": "markdown",
   "metadata": {},
   "source": [
    "## Version 1 (incorrect)"
   ]
  },
  {
   "cell_type": "code",
   "execution_count": 1,
   "metadata": {},
   "outputs": [
    {
     "name": "stdout",
     "output_type": "stream",
     "text": [
      "knot_year =\n",
      "\n",
      " Columns 1 through 11:\n",
      "\n",
      "   2001   2002   2003   2004   2005   2006   2007   2008   2009   2010   2011\n",
      "\n",
      " Columns 12 and 13:\n",
      "\n",
      "   2012   2013\n",
      "\n"
     ]
    }
   ],
   "source": [
    "model.knots = [365 730 1095 1461 1826 2191 2556 2922 3287 3652 4017 4383 4748]';\n",
    "\n",
    "frac4=model.knots./1461;\n",
    "complete4= floor(frac4);\n",
    "mod4=frac4-complete4;\n",
    "daysleft4=model.knots - 1461*complete4;\n",
    "\n",
    "for i=1:length(model.knots)\n",
    "if (mod4(i) >= 1096/1461)    % Test for leap year\n",
    "     knot_year(i) = 2000 + 4*complete4(i) + 3 + (daysleft4(i)-1095)/366;  % Leap year\n",
    "else\n",
    "    knot_year(i)= 2000 + 4*complete4(i) + daysleft4(i)/365;   % Non-leap year\n",
    "end\n",
    "end\n",
    "\n",
    "knot_year"
   ]
  },
  {
   "cell_type": "markdown",
   "metadata": {},
   "source": [
    "## Version 2 (correct)"
   ]
  },
  {
   "cell_type": "code",
   "execution_count": 4,
   "metadata": {},
   "outputs": [
    {
     "name": "stdout",
     "output_type": "stream",
     "text": [
      "knot_year =\n",
      "\n",
      " Columns 1 through 11:\n",
      "\n",
      "   2000   2001   2002   2003   2004   2005   2006   2007   2008   2009   2010\n",
      "\n",
      " Columns 12 through 16:\n",
      "\n",
      "   2011   2012   2013   2100   1901\n",
      "\n"
     ]
    }
   ],
   "source": [
    "model.knots = [0 366 731 1096 1461 1827 2192 2557 2922 3288 3653 4018 4383 4749 36525 -36159]';\n",
    "\n",
    "frac4=model.knots./1461;\n",
    "complete4= floor(frac4);\n",
    "mod4=frac4-complete4;\n",
    "daysleft4=model.knots - 1461*complete4;\n",
    "\n",
    "for i=1:length(model.knots)\n",
    "if (mod4(i) <= 366/1461)    % Test for leap year\n",
    "     knot_year(i) = 2000 + 4*complete4(i) + daysleft4(i)/366;  % Leap year\n",
    "else\n",
    "    knot_year(i)= 2000 + 4*complete4(i) + 1 + (daysleft4(i)-366)/365;   % Non-leap year\n",
    "end\n",
    "end\n",
    "\n",
    "knot_year"
   ]
  }
 ],
 "metadata": {
  "kernelspec": {
   "display_name": "Octave",
   "language": "octave",
   "name": "octave"
  },
  "language_info": {
   "file_extension": ".m",
   "help_links": [
    {
     "text": "GNU Octave",
     "url": "https://www.gnu.org/software/octave/support.html"
    },
    {
     "text": "Octave Kernel",
     "url": "https://github.com/Calysto/octave_kernel"
    },
    {
     "text": "MetaKernel Magics",
     "url": "https://github.com/calysto/metakernel/blob/master/metakernel/magics/README.md"
    }
   ],
   "mimetype": "text/x-octave",
   "name": "octave",
   "version": "4.2.1"
  }
 },
 "nbformat": 4,
 "nbformat_minor": 2
}
