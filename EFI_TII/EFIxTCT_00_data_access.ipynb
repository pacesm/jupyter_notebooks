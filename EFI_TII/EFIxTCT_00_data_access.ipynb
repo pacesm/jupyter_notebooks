{
 "cells": [
  {
   "cell_type": "markdown",
   "id": "77a6bc73-af9d-4c8b-8030-c8e37df0d2e3",
   "metadata": {},
   "source": [
    "# Swarm Thermal Ion Imager - Cross-Track Ion Flow Products in VirES\n",
    "\n",
    "This notebook demonstrates access to the Swarm TII cross-track flow products ([`EFIxTCT` products](https://earth.esa.int/eogateway/documents/20142/37627/swarm-EFI-TII-cross-track-flow-dataset-release-notes.pdf)). The available variables and their mapping to source product variables are provided."
   ]
  },
  {
   "cell_type": "code",
   "execution_count": 1,
   "id": "9242a435-0c00-4670-beaa-11975b32c51c",
   "metadata": {},
   "outputs": [],
   "source": [
    "from viresclient import SwarmRequest\n",
    "\n",
    "SERVER_URL = \"https://vires.services/ows\""
   ]
  },
  {
   "cell_type": "markdown",
   "id": "c2346078-474b-4886-82df-8f3bd588c42c",
   "metadata": {},
   "source": [
    "## EFIx_TCT02 and EFIx_TCT16 - TII Cross-Track Ion Flow\n",
    "### Collections\n",
    "\n",
    "| Collection | Dataset |\n",
    "|---|---|\n",
    "|`SW_EXPT_EFIA_TCT02`| Swarm A TII cross-track ion flow - low resolution (2Hz) |\n",
    "|`SW_EXPT_EFIB_TCT02`| Swarm B TII cross-track ion flow - low resolution (2Hz) |\n",
    "|`SW_EXPT_EFIC_TCT02`| Swarm C TII cross-track ion flow - low resolution (2Hz) |\n",
    "|`SW_EXPT_EFIA_TCT16`| Swarm A TII cross-track ion flow - high resolution (16Hz) |\n",
    "|`SW_EXPT_EFIB_TCT16`| Swarm B TII cross-track ion flow - high resolution (16Hz) |\n",
    "|`SW_EXPT_EFIC_TCT16`| Swarm C TII cross-track ion flow - high resolution (16Hz) |\n",
    "\n",
    "### Avaiable Variables\n",
    "\n",
    "| VirES Variable | Source Product Variable | Unit | Dimension | Description | \n",
    "|---|---|---|---|---|\n",
    "| `Timestamp` | `Timestamp` | $$-$$ | scalar | UTC time-stamp|\n",
    "| `Latitude` | `Latitude` | $$\\text{deg}$$ | scalar | ITRF geocentric latitude |\n",
    "| `Longitude` | `Longitude` | $$\\text{deg}$$ | scalar | ITRF geocentric longitude |\n",
    "| `Radius` | `Radius`| $$\\text{m}$$ | scalar | ITRF geocentric radius |\n",
    "| `Latitude_QD` | `QDLatitude` | $$\\text{deg}$$ | scalar | Quasi-dipole latitude from the source product |\n",
    "| `MLT_QD` | `MLT` | $$\\text{hour}$$ | scalar | Magnetic local time (QD) from the source product |\n",
    "| `VsatN` | `VsatN` | $$\\text{m}/\\text{s}$$ | scalar | Satellite velocity N component in north-east-centre coordinates |\n",
    "| `VsatE` | `VsatE` | $$\\text{m}/\\text{s}$$ | scalar | Satellite velocity N component in north-east-centre coordinates |\n",
    "| `VsatC` | `VsatC` | $$\\text{m}/\\text{s}$$ | scalar | Satellite velocity N component in north-east-centre coordinates |\n",
    "| `Vixh` | `Vixh` | $$\\text{m}/\\text{s}$$ | scalar | Along-track ion drift from horizontal TII sensor in satellite-track coordinates |\n",
    "| `Vixh_error` | `Vixh_error` | $$\\text{m}/\\text{s}$$ | scalar | Random error estimate for along-track ion drift from horizontal TII sensor in satellite-track coordinates. Negative value indicates no estimate available |\n",
    "| `Vixv` | `Vixv` | $$\\text{m}/\\text{s}$$ | scalar | Along-track ion drift from vertical TII sensor in satellite-track coordinates |\n",
    "| `Vixv_error` | `Vixv_error` | $$\\text{m}/\\text{s}$$ | scalar | Random error estimate for along-track ion drift from vertical TII sensor in satellite-track coordinates. Negative value indicates no estimate available |\n",
    "| `Viy` | `Viy` | $$\\text{m}/\\text{s}$$ | scalar | Cross-track horizontal ion drift from horizontal TII sensor in satellite-track coordinates |\n",
    "| `Viy_error` | `Viy_error` | $$\\text{m}/\\text{s}$$ | scalar | Random error estimate for cross-track horizontal ion drift from horizontal TII sensor in satellite-track coordinates. Negative value indicates no estimate available |\n",
    "| `Viz` | `Viz` | $$\\text{m}/\\text{s}$$ | scalar | Cross-track vertical ion drift from vertical TII sensor in satellite-track coordinates |\n",
    "| `Viz_error` | `Viz_error` | $$\\text{m}/\\text{s}$$ | scalar | Random error estimate for cross-track vertical ion drift from vertical TII sensor in satellite-track coordinates. Negative value indicates no estimate available |\n",
    "| `Vicrx` | `Vicrx` | $$\\text{m}/\\text{s}$$ | scalar | Ion drift corotation signal x component in satellite-track coorinates. This has been removed from ion drift and electric field |\n",
    "| `Vicry` | `Vicry` | $$\\text{m}/\\text{s}$$ | scalar | Ion drift corotation signal y component in satellite-track coorinates. This has been removed from ion drift and electric field |\n",
    "| `Vicrz` | `Vicrz` | $$\\text{m}/\\text{s}$$ | scalar | Ion drift corotation signal z component in satellite-track coorinates. This has been removed from ion drift and electric field |\n",
    "| `Ehx` | `Ehx` | $$\\text{mV}/\\text{m}$$ | scalar | Electric field x component in satellite-track coordinates, derived from -VxB with along-track ion drift from horizontal sensor |\n",
    "| `Ehy` | `Ehy` | $$\\text{mV}/\\text{m}$$ | scalar | Electric field y component in satellite-track coordinates, derived from -VxB with along-track ion drift from horizontal sensor |\n",
    "| `Ehz` | `Ehz` | $$\\text{mV}/\\text{m}$$ | scalar | Electric field z component in satellite-track coordinates, derived from -VxB with along-track ion drift from horizontal sensor |\n",
    "| `Evx` | `Evx` | $$\\text{mV}/\\text{m}$$ | scalar | Electric field x component in satellite-track coordinates, derived from -VxB with along-track ion drift from vertical sensor |\n",
    "| `Evy` | `Evy` | $$\\text{mV}/\\text{m}$$ | scalar | Electric field y component in satellite-track coordinates, derived from -VxB with along-track ion drift from vertical sensor |\n",
    "| `Evz` | `Evz` | $$\\text{mV}/\\text{m}$$ | scalar | Electric field z component in satellite-track coordinates, derived from -VxB with along-track ion drift from vertical sensor |\n",
    "| `Bx` | `Bx` | $$\\text{nT}$$ | scalar | Geomagnetic field x component in satellite-track coordinates, derived from the 1 Hz product |\n",
    "| `By` | `By` | $$\\text{nT}$$ | scalar | Geomagnetic field y component in satellite-track coordinates, derived from the 1 Hz product |\n",
    "| `Bz` | `Bz` | $$\\text{nT}$$ | scalar | Geomagnetic field z component in satellite-track coordinates, derived from the 1 Hz product |\n",
    "| `Calibration_flags` | `Calibration_flags` | $$-$$ | scalar | Information about the calibration process  |\n",
    "| `Quality_flags` | `Quality_flags` | $$-$$ | scalar | Bitwise quality flag |\n",
    "\n",
    "See the [`EFIxTCT` products specification](https://earth.esa.int/eogateway/documents/20142/37627/swarm-EFI-TII-cross-track-flow-dataset-release-notes.pdf) for more details."
   ]
  },
  {
   "cell_type": "code",
   "execution_count": 2,
   "id": "04543adc-6801-405d-9be3-7593375a93fa",
   "metadata": {},
   "outputs": [
    {
     "data": {
      "application/vnd.jupyter.widget-view+json": {
       "model_id": "77115811d1ff4a8a84a5b951671c9934",
       "version_major": 2,
       "version_minor": 0
      },
      "text/plain": [
       "Processing:    0%|          |  [ Elapsed: 00:00, Remaining: ? ] [1/1] "
      ]
     },
     "metadata": {},
     "output_type": "display_data"
    },
    {
     "data": {
      "application/vnd.jupyter.widget-view+json": {
       "model_id": "35b3d3465fe848b7b02cef864c47ab92",
       "version_major": 2,
       "version_minor": 0
      },
      "text/plain": [
       "Downloading:   0%|          |  [ Elapsed: 00:00, Remaining: ? ] (9.269MB)"
      ]
     },
     "metadata": {},
     "output_type": "display_data"
    },
    {
     "name": "stdout",
     "output_type": "stream",
     "text": [
      "Requested variables VsatC, VsatE, VsatN, Bx, By, Bz, Ehx, Ehy, Ehz, Evx, Evy, Evz, Vicrx, Vicry, Vicrz, Vixv, Vixh, Viy, Viz, Vixv_error, Vixh_error, Viy_error, Viz_error, Latitude_QD, MLT_QD, Calibration_flags, Quality_flags\n",
      "Response: <xarray.Dataset>\n",
      "Dimensions:            (Timestamp: 61169)\n",
      "Coordinates:\n",
      "  * Timestamp          (Timestamp) datetime64[ns] 2016-01-02T00:00:00.2252500...\n",
      "Data variables: (12/34)\n",
      "    Spacecraft         (Timestamp) object 'A' 'A' 'A' 'A' ... 'A' 'A' 'A' 'A'\n",
      "    Calibration_flags  (Timestamp) uint32 0 0 0 0 0 0 0 0 0 ... 0 0 0 0 0 0 0 0\n",
      "    Vicrx              (Timestamp) float32 -12.95 -12.96 ... -25.04 -25.04\n",
      "    Evy                (Timestamp) float32 0.8415 1.886 0.6683 ... 11.56 10.45\n",
      "    Vixv               (Timestamp) float32 4.664 42.65 7.927 ... -237.7 -157.1\n",
      "    QDLat              (Timestamp) float64 41.46 41.49 41.52 ... 1.446 1.411\n",
      "    ...                 ...\n",
      "    By                 (Timestamp) float32 794.6 793.1 ... 1.705e+03 1.708e+03\n",
      "    Viy_error          (Timestamp) float32 17.25 17.25 17.25 ... 45.22 45.22\n",
      "    Latitude_QD        (Timestamp) float32 41.48 41.51 41.54 ... 1.446 1.41\n",
      "    MLT_QD             (Timestamp) float32 17.11 17.11 17.11 ... 5.046 5.046\n",
      "    Vixh_error         (Timestamp) float32 28.78 28.78 28.78 ... 68.98 68.98\n",
      "    MLT                (Timestamp) float64 17.16 17.16 17.16 ... 5.092 5.092\n",
      "Attributes:\n",
      "    Sources:         ['SW_EXPT_EFIA_TCT02_20160102T000000_20160102T031405_030...\n",
      "    MagneticModels:  []\n",
      "    RangeFilters:    []\n"
     ]
    }
   ],
   "source": [
    "request = SwarmRequest(SERVER_URL)\n",
    "\n",
    "request.set_collection(\"SW_EXPT_EFIA_TCT02\")\n",
    "request.set_products(\n",
    "    measurements=SwarmRequest.PRODUCT_VARIABLES[\"EFI_TCT02\"], # request all dataset variables\n",
    "    auxiliaries=['QDLat', 'QDLon', 'MLT'], # QD coordinates and MLT calculated by VirES\n",
    ")\n",
    "\n",
    "data = request.get_between(\n",
    "    start_time=\"2016-01-02T00:00:00Z\",\n",
    "    end_time=\"2016-01-03T00:00:00Z\",\n",
    ").as_xarray()\n",
    "\n",
    "print(\"Requested variables\", \", \".join(SwarmRequest.PRODUCT_VARIABLES[\"EFI_TCT02\"]))\n",
    "print(\"Response:\", data)"
   ]
  },
  {
   "cell_type": "code",
   "execution_count": 3,
   "id": "294530d0-2b2f-4c5c-a9d9-4bd7a264ee6d",
   "metadata": {},
   "outputs": [
    {
     "data": {
      "application/vnd.jupyter.widget-view+json": {
       "model_id": "66e6d5318484486785a66fb9ddd556e2",
       "version_major": 2,
       "version_minor": 0
      },
      "text/plain": [
       "Processing:    0%|          |  [ Elapsed: 00:00, Remaining: ? ] [1/1] "
      ]
     },
     "metadata": {},
     "output_type": "display_data"
    },
    {
     "data": {
      "application/vnd.jupyter.widget-view+json": {
       "model_id": "af0e41569c9448a49cac9c6fd05080c2",
       "version_major": 2,
       "version_minor": 0
      },
      "text/plain": [
       "Downloading:   0%|          |  [ Elapsed: 00:00, Remaining: ? ] (73.928MB)"
      ]
     },
     "metadata": {},
     "output_type": "display_data"
    },
    {
     "name": "stdout",
     "output_type": "stream",
     "text": [
      "Requested variables VsatC, VsatE, VsatN, Bx, By, Bz, Ehx, Ehy, Ehz, Evx, Evy, Evz, Vicrx, Vicry, Vicrz, Vixv, Vixh, Viy, Viz, Vixv_error, Vixh_error, Viy_error, Viz_error, Latitude_QD, MLT_QD, Calibration_flags, Quality_flags\n",
      "Response: <xarray.Dataset>\n",
      "Dimensions:            (Timestamp: 489378)\n",
      "Coordinates:\n",
      "  * Timestamp          (Timestamp) datetime64[ns] 2016-01-02T00:00:00.0067502...\n",
      "Data variables: (12/34)\n",
      "    Spacecraft         (Timestamp) object 'A' 'A' 'A' 'A' ... 'A' 'A' 'A' 'A'\n",
      "    Calibration_flags  (Timestamp) uint32 0 0 0 0 0 0 0 0 0 ... 0 0 0 0 0 0 0 0\n",
      "    Vicrx              (Timestamp) float32 -12.94 -12.94 ... -25.05 -25.05\n",
      "    Evy                (Timestamp) float32 1.907 -2.4 2.344 ... 12.97 12.97\n",
      "    Vixv               (Timestamp) float32 21.68 -95.21 36.27 ... -397.3 -397.3\n",
      "    QDLat              (Timestamp) float64 41.45 41.45 41.46 ... 1.364 1.36 1.36\n",
      "    ...                 ...\n",
      "    By                 (Timestamp) float32 795.3 795.1 ... 1.712e+03 1.712e+03\n",
      "    Viy_error          (Timestamp) float32 48.8 48.8 48.8 ... 127.9 127.9 127.9\n",
      "    Latitude_QD        (Timestamp) float32 41.46 41.47 41.47 ... 1.359 1.349\n",
      "    MLT_QD             (Timestamp) float32 17.11 17.11 17.11 ... 5.046 5.046\n",
      "    Vixh_error         (Timestamp) float32 81.39 81.39 81.39 ... 195.1 195.1\n",
      "    MLT                (Timestamp) float64 17.16 17.16 17.16 ... 5.092 5.093\n",
      "Attributes:\n",
      "    Sources:         ['SW_EXPT_EFIA_TCT16_20160102T000000_20160102T031405_030...\n",
      "    MagneticModels:  []\n",
      "    RangeFilters:    []\n"
     ]
    }
   ],
   "source": [
    "request = SwarmRequest(SERVER_URL)\n",
    "\n",
    "request.set_collection(\"SW_EXPT_EFIA_TCT16\")\n",
    "request.set_products(\n",
    "    measurements=SwarmRequest.PRODUCT_VARIABLES[\"EFI_TCT16\"], # request all dataset variables\n",
    "    auxiliaries=['QDLat', 'QDLon', 'MLT'], # QD coordinates and MLT calculated by VirES\n",
    ")\n",
    "\n",
    "data = request.get_between(\n",
    "    start_time=\"2016-01-02T00:00:00Z\",\n",
    "    end_time=\"2016-01-03T00:00:00Z\",\n",
    ").as_xarray()\n",
    "\n",
    "print(\"Requested variables\", \", \".join(SwarmRequest.PRODUCT_VARIABLES[\"EFI_TCT16\"]))\n",
    "print(\"Response:\", data)"
   ]
  }
 ],
 "metadata": {
  "kernelspec": {
   "display_name": "Python 3 (ipykernel)",
   "language": "python",
   "name": "python3"
  },
  "language_info": {
   "codemirror_mode": {
    "name": "ipython",
    "version": 3
   },
   "file_extension": ".py",
   "mimetype": "text/x-python",
   "name": "python",
   "nbconvert_exporter": "python",
   "pygments_lexer": "ipython3",
   "version": "3.9.7"
  }
 },
 "nbformat": 4,
 "nbformat_minor": 5
}
