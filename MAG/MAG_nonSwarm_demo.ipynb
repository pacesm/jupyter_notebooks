{
 "cells": [
  {
   "cell_type": "markdown",
   "metadata": {},
   "source": [
    "# VirES - access to non-Swarm multi-mission magnetic data\n",
    "\n",
    "This notebook demonstrates access to CryoSat-2, GRACE A/B, GRACE-FO, CSES, ePOP LR and HR magnetic products avaiable from the DISC VirES server."
   ]
  },
  {
   "cell_type": "code",
   "execution_count": 1,
   "metadata": {},
   "outputs": [
    {
     "name": "stdout",
     "output_type": "stream",
     "text": [
      "Collecting viresclient\n",
      "  Cloning https://github.com/ESA-VirES/VirES-Python-Client (to revision multi-mission-demo) to /tmp/pip-install-d7182m4i/viresclient\n",
      "Requirement already satisfied, skipping upgrade: Jinja2<3.0.0,>=2.10 in /opt/conda/lib/python3.7/site-packages (from viresclient) (2.11.0)\n",
      "Requirement already satisfied, skipping upgrade: pandas<2.0.0,>=0.18 in /opt/conda/lib/python3.7/site-packages (from viresclient) (0.25.3)\n",
      "Requirement already satisfied, skipping upgrade: cdflib<1.0.0,>=0.3.9 in /opt/conda/lib/python3.7/site-packages (from viresclient) (0.3.17)\n",
      "Requirement already satisfied, skipping upgrade: tables<4.0.0,>=3.4.4 in /opt/conda/lib/python3.7/site-packages (from viresclient) (3.6.1)\n",
      "Requirement already satisfied, skipping upgrade: tqdm<5.0.0,>=4.23.0 in /opt/conda/lib/python3.7/site-packages (from viresclient) (4.42.0)\n",
      "Requirement already satisfied, skipping upgrade: xarray<1.0.0,>=0.11.0 in /opt/conda/lib/python3.7/site-packages (from viresclient) (0.15.0)\n",
      "Requirement already satisfied, skipping upgrade: requests<3.0.0,>=2.0.0 in /opt/conda/lib/python3.7/site-packages (from viresclient) (2.22.0)\n",
      "Requirement already satisfied, skipping upgrade: MarkupSafe>=0.23 in /opt/conda/lib/python3.7/site-packages (from Jinja2<3.0.0,>=2.10->viresclient) (1.1.1)\n",
      "Requirement already satisfied, skipping upgrade: pytz>=2017.2 in /opt/conda/lib/python3.7/site-packages (from pandas<2.0.0,>=0.18->viresclient) (2019.3)\n",
      "Requirement already satisfied, skipping upgrade: python-dateutil>=2.6.1 in /opt/conda/lib/python3.7/site-packages (from pandas<2.0.0,>=0.18->viresclient) (2.8.1)\n",
      "Requirement already satisfied, skipping upgrade: numpy>=1.13.3 in /opt/conda/lib/python3.7/site-packages (from pandas<2.0.0,>=0.18->viresclient) (1.17.5)\n",
      "Requirement already satisfied, skipping upgrade: numexpr>=2.6.2 in /opt/conda/lib/python3.7/site-packages (from tables<4.0.0,>=3.4.4->viresclient) (2.7.1)\n",
      "Requirement already satisfied, skipping upgrade: chardet<3.1.0,>=3.0.2 in /opt/conda/lib/python3.7/site-packages (from requests<3.0.0,>=2.0.0->viresclient) (3.0.4)\n",
      "Requirement already satisfied, skipping upgrade: certifi>=2017.4.17 in /opt/conda/lib/python3.7/site-packages (from requests<3.0.0,>=2.0.0->viresclient) (2019.11.28)\n",
      "Requirement already satisfied, skipping upgrade: idna<2.9,>=2.5 in /opt/conda/lib/python3.7/site-packages (from requests<3.0.0,>=2.0.0->viresclient) (2.8)\n",
      "Requirement already satisfied, skipping upgrade: urllib3!=1.25.0,!=1.25.1,<1.26,>=1.21.1 in /opt/conda/lib/python3.7/site-packages (from requests<3.0.0,>=2.0.0->viresclient) (1.25.7)\n",
      "Requirement already satisfied, skipping upgrade: six>=1.5 in /opt/conda/lib/python3.7/site-packages (from python-dateutil>=2.6.1->pandas<2.0.0,>=0.18->viresclient) (1.14.0)\n",
      "Building wheels for collected packages: viresclient\n",
      "  Building wheel for viresclient (setup.py) ... \u001b[?25ldone\n",
      "\u001b[?25h  Created wheel for viresclient: filename=viresclient-0.8.0a0-py3-none-any.whl size=70981 sha256=396dafc3b15f4113ad606782b6e2717c61062c76092689c24a11e9c26c8835ce\n",
      "  Stored in directory: /tmp/pip-ephem-wheel-cache-k0w5z95k/wheels/32/c0/7b/9a56c7193e4ade4e4e70b5f8ed5d450e2ecd4e3d03eef4e64d\n",
      "Successfully built viresclient\n",
      "Installing collected packages: viresclient\n",
      "  Attempting uninstall: viresclient\n",
      "    Found existing installation: viresclient 0.8.0a0\n",
      "    Uninstalling viresclient-0.8.0a0:\n",
      "      Successfully uninstalled viresclient-0.8.0a0\n",
      "Successfully installed viresclient-0.8.0a0\n",
      "\u001b[33mWARNING: You are using pip version 20.2.3; however, version 21.0.1 is available.\n",
      "You should consider upgrading via the '/opt/conda/bin/python -m pip install --upgrade pip' command.\u001b[0m\n"
     ]
    }
   ],
   "source": [
    "# pre-release setup\n",
    "\n",
    "! pip install --upgrade 'git+https://github.com/ESA-VirES/VirES-Python-Client@multi-mission-demo#egg=viresclient'\n"
   ]
  },
  {
   "cell_type": "code",
   "execution_count": 2,
   "metadata": {},
   "outputs": [],
   "source": [
    "from viresclient import SwarmRequest\n",
    "\n",
    "#SERVER_URL = None # default VirES server\n",
    "SERVER_URL = 'https://staging.viresdisc.vires.services/ows' # DISC server\n"
   ]
  },
  {
   "cell_type": "markdown",
   "metadata": {},
   "source": [
    "# CSES Data\n",
    "\n",
    "avaiable data: 2019-01-01/2019-01-31"
   ]
  },
  {
   "cell_type": "code",
   "execution_count": 3,
   "metadata": {},
   "outputs": [
    {
     "name": "stderr",
     "output_type": "stream",
     "text": [
      "      Downloading: 100%|██████████|  [ Elapsed: 00:00, Remaining: 00:00 ] (0.107MB)"
     ]
    },
    {
     "name": "stdout",
     "output_type": "stream",
     "text": [
      "<xarray.Dataset>\n",
      "Dimensions:     (B_FGM1_dim1: 3, B_FGM2_dim1: 3, NEC: 3, Timestamp: 301, quaternion: 4)\n",
      "Coordinates:\n",
      "  * Timestamp   (Timestamp) datetime64[ns] 2019-01-01T04:35:00.196000099 ... 2019-01-01T04:39:59.720000029\n",
      "  * NEC         (NEC) <U1 'N' 'E' 'C'\n",
      "  * quaternion  (quaternion) <U1 '1' 'i' 'j' 'k'\n",
      "Dimensions without coordinates: B_FGM1_dim1, B_FGM2_dim1\n",
      "Data variables:\n",
      "    Spacecraft  (Timestamp) object '-' '-' '-' '-' '-' ... '-' '-' '-' '-' '-'\n",
      "    F           (Timestamp) float64 4.855e+04 4.857e+04 ... 5.153e+04 5.153e+04\n",
      "    Latitude    (Timestamp) float64 -40.48 -40.55 -40.61 ... -58.94 -59.0 -59.06\n",
      "    Flag_MT     (Timestamp) uint8 0 0 0 0 0 0 0 0 0 0 0 ... 0 0 0 0 0 0 0 0 0 0\n",
      "    Flag_TBB    (Timestamp) uint8 0 0 0 0 0 0 0 0 0 0 0 ... 0 0 0 0 0 0 0 0 0 0\n",
      "    B_FGM2      (Timestamp, B_FGM2_dim1) float64 -1.443e+04 641.8 ... -5.144e+04\n",
      "    q_NEC_CRF   (Timestamp, quaternion) float64 0.0001664 -5.037e-05 ... 0.1259\n",
      "    Longitude   (Timestamp) float64 134.7 134.6 134.6 ... 127.4 127.3 127.3\n",
      "    B_FGM1      (Timestamp, B_FGM1_dim1) float64 -1.461e+04 ... -5.146e+04\n",
      "    Radius      (Timestamp) float64 6.88e+06 6.88e+06 ... 6.883e+06 6.883e+06\n",
      "    B_NEC1      (Timestamp, NEC) float64 1.458e+04 1.596e+03 ... -5.143e+04\n",
      "Attributes:\n",
      "    Sources:         ['CSES_01_MAG_20190101T000000_20190101T235959_0101']\n",
      "    MagneticModels:  []\n",
      "    RangeFilters:    []\n"
     ]
    },
    {
     "name": "stderr",
     "output_type": "stream",
     "text": [
      "\n"
     ]
    }
   ],
   "source": [
    "SwarmRequest.COLLECTIONS[\"MAG_CSES\"] = [\"CSES_01_MAG\"]\n",
    "\n",
    "SwarmRequest.PRODUCT_VARIABLES[\"MAG_CSES\"] = [\n",
    "    \"F\", \"B_NEC1\",\"B_NEC1\", \"B_FGM1\", \"B_FGM2\",\n",
    "    \"q_NEC_CRF\", \"Flag_TBB\", \"Flag_MT\", \"Flag_SHW\",\n",
    "]\n",
    "\n",
    "request = SwarmRequest(SERVER_URL)\n",
    "request.set_collection(\"CSES_01_MAG\")\n",
    "request.set_products(\n",
    "    measurements=request.PRODUCT_VARIABLES[\"MAG_CSES\"],\n",
    "    #sampling_step=\"PT1S\", # ~1Hz sampling\n",
    ")\n",
    "\n",
    "data = request.get_between(\n",
    "    start_time=\"2019-01-01T04:35:00Z\",\n",
    "    end_time=\"2019-01-01T04:40:00Z\",\n",
    "    asynchronous=False,\n",
    ").as_xarray()\n",
    "\n",
    "print(data)"
   ]
  },
  {
   "cell_type": "markdown",
   "metadata": {},
   "source": [
    "## CryoSat-2 Data\n",
    "\n",
    "avaiable data: 2016-01-01/2016-01-31 and 2018-07-01/2018-07-31"
   ]
  },
  {
   "cell_type": "code",
   "execution_count": 4,
   "metadata": {},
   "outputs": [
    {
     "name": "stderr",
     "output_type": "stream",
     "text": [
      "      Downloading: 100%|██████████|  [ Elapsed: 00:00, Remaining: 00:00 ] (0.141MB)"
     ]
    },
    {
     "name": "stdout",
     "output_type": "stream",
     "text": [
      "<xarray.Dataset>\n",
      "Dimensions:     (B_FGM1_dim1: 3, B_FGM2_dim1: 3, B_FGM3_dim1: 3, B_mod_NEC_dim1: 3, NEC: 3, Timestamp: 75, quaternion: 4)\n",
      "Coordinates:\n",
      "  * Timestamp   (Timestamp) datetime64[ns] 2016-01-01T04:35:01.274007797 ... 2016-01-01T04:39:57.275007725\n",
      "  * NEC         (NEC) <U1 'N' 'E' 'C'\n",
      "  * quaternion  (quaternion) <U1 '1' 'i' 'j' 'k'\n",
      "Dimensions without coordinates: B_FGM1_dim1, B_FGM2_dim1, B_FGM3_dim1, B_mod_NEC_dim1\n",
      "Data variables:\n",
      "    Spacecraft  (Timestamp) object '-' '-' '-' '-' '-' ... '-' '-' '-' '-' '-'\n",
      "    q_error     (Timestamp) float64 8.928 6.324 6.281 6.64 ... 6.002 6.849 6.658\n",
      "    B_NEC2      (Timestamp, NEC) float64 2.6e+04 -210.8 ... -1.145e+03 -2.17e+03\n",
      "    F           (Timestamp) float64 3.186e+04 3.177e+04 ... 2.813e+04 2.813e+04\n",
      "    Latitude    (Timestamp) float64 23.45 23.21 22.97 ... 6.059 5.818 5.576\n",
      "    B_mod_NEC   (Timestamp, B_mod_NEC_dim1) float64 2.602e+04 ... -2.15e+03\n",
      "    B_FGM3      (Timestamp, B_FGM3_dim1) float64 -2.916e+03 -2.382e+04 ... 733.3\n",
      "    B_NEC       (Timestamp, NEC) float64 2.6e+04 -212.7 ... -2.162e+03\n",
      "    B_NEC3      (Timestamp, NEC) float64 2.6e+04 -216.5 ... -2.169e+03\n",
      "    B_FGM2      (Timestamp, B_FGM2_dim1) float64 2.623e+03 ... -4.968e+03\n",
      "    q_NEC_CRF   (Timestamp, quaternion) float64 0.05603 -0.9984 ... 0.002211\n",
      "    Longitude   (Timestamp) float64 85.34 85.31 85.28 ... 83.47 83.44 83.42\n",
      "    B_FGM1      (Timestamp, B_FGM1_dim1) float64 2.963e+03 ... -5.219e+03\n",
      "    Radius      (Timestamp) float64 7.101e+06 7.101e+06 ... 7.104e+06 7.104e+06\n",
      "    B_NEC1      (Timestamp, NEC) float64 2.6e+04 -214.0 ... -1.14e+03 -2.153e+03\n",
      "Attributes:\n",
      "    Sources:         ['CS_OPER_MAG_20160101T000000_20160101T235959_0103']\n",
      "    MagneticModels:  []\n",
      "    RangeFilters:    []\n"
     ]
    },
    {
     "name": "stderr",
     "output_type": "stream",
     "text": [
      "\n"
     ]
    }
   ],
   "source": [
    "SwarmRequest.COLLECTIONS[\"MAG_CS2\"] = [\"CS_OPER_MAG\"]\n",
    "\n",
    "SwarmRequest.PRODUCT_VARIABLES[\"MAG_CS2\"] = [\n",
    "    \"F\", \"B_NEC\", \"B_mod_NEC\",\n",
    "    \"B_NEC1\", \"B_NEC2\", \"B_NEC3\",\n",
    "    \"B_FGM1\", \"B_FGM2\", \"B_FGM3\",\n",
    "    \"q_NEC_CRF\", \"q_error\",\n",
    "]\n",
    "\n",
    "request = SwarmRequest(SERVER_URL)\n",
    "request.set_collection(\"CS_OPER_MAG\")\n",
    "request.set_products(\n",
    "    measurements=request.PRODUCT_VARIABLES['MAG_CS2'],\n",
    "    #sampling_step=\"PT4S\", # ~0.25Hz sampling\n",
    ")\n",
    "\n",
    "data = request.get_between(\n",
    "    start_time=\"2016-01-01T04:35:00Z\",\n",
    "    end_time=\"2016-01-01T04:40:00Z\",\n",
    "    asynchronous=False,\n",
    ").as_xarray()\n",
    "\n",
    "print(data)"
   ]
  },
  {
   "cell_type": "markdown",
   "metadata": {},
   "source": [
    "## GRACE A/B\n",
    "avaiable data: 2016-01-01/2016-01-31"
   ]
  },
  {
   "cell_type": "code",
   "execution_count": 5,
   "metadata": {},
   "outputs": [
    {
     "name": "stderr",
     "output_type": "stream",
     "text": [
      "      Downloading: 100%|██████████|  [ Elapsed: 00:00, Remaining: 00:00 ] (0.147MB)"
     ]
    },
    {
     "name": "stdout",
     "output_type": "stream",
     "text": [
      "<xarray.Dataset>\n",
      "Dimensions:     (B_FGM_dim1: 3, B_mod_NEC_dim1: 3, NEC: 3, Timestamp: 352, quaternion: 4)\n",
      "Coordinates:\n",
      "  * Timestamp   (Timestamp) datetime64[ns] 2016-01-01T04:35:00.896585941 ... 2016-01-01T04:39:57.969867229\n",
      "  * NEC         (NEC) <U1 'N' 'E' 'C'\n",
      "  * quaternion  (quaternion) <U1 '1' 'i' 'j' 'k'\n",
      "Dimensions without coordinates: B_FGM_dim1, B_mod_NEC_dim1\n",
      "Data variables:\n",
      "    Spacecraft  (Timestamp) object '-' '-' '-' '-' '-' ... '-' '-' '-' '-' '-'\n",
      "    q_error     (Timestamp) float64 6.504e-05 6.065e-05 ... 3.467e-05 3.918e-05\n",
      "    F           (Timestamp) float64 4.69e+04 4.691e+04 ... 4.429e+04 4.425e+04\n",
      "    Latitude    (Timestamp) float64 -83.16 -83.09 -82.96 ... -62.1 -61.91 -61.78\n",
      "    B_NEC_raw   (Timestamp, NEC) float64 -425.2 1.225e+04 ... -4.158e+04\n",
      "    B_FGM       (Timestamp, B_FGM_dim1) float64 691.6 1.208e+04 ... -4.139e+04\n",
      "    B_NEC       (Timestamp, NEC) float64 -411.6 1.224e+04 ... -4.158e+04\n",
      "    q_NEC_CRF   (Timestamp, quaternion) float64 0.001665 -0.008322 ... -0.02606\n",
      "    Longitude   (Timestamp) float64 -139.4 -139.4 -139.2 ... -134.1 -134.1\n",
      "    Radius      (Timestamp) float64 6.764e+06 6.764e+06 ... 6.762e+06 6.762e+06\n",
      "    B_mod_NEC   (Timestamp, B_mod_NEC_dim1) float64 -488.9 ... -4.157e+04\n",
      "Attributes:\n",
      "    Sources:         ['GRACE_A_MAG_20160101T000000_20160101T235959_0102', 'GR...\n",
      "    MagneticModels:  []\n",
      "    RangeFilters:    []\n"
     ]
    },
    {
     "name": "stderr",
     "output_type": "stream",
     "text": [
      "\n"
     ]
    }
   ],
   "source": [
    "SwarmRequest.COLLECTIONS[\"MAG_GRACE\"] = [\"GRACE_A_MAG\", \"GRACE_B_MAG\"]\n",
    "\n",
    "SwarmRequest.PRODUCT_VARIABLES[\"MAG_GRACE\"] = [\n",
    "    \"F\", \"B_NEC\", \"B_NEC_raw\", \"B_FGM\", \"B_mod_NEC\",\n",
    "    \"q_NEC_CRF\", \"q_error\",\n",
    "]\n",
    "\n",
    "request = SwarmRequest(SERVER_URL)\n",
    "request.set_collection(\"GRACE_A_MAG\", \"GRACE_B_MAG\") # request data from both A and B\n",
    "#request.set_collection(\"GRACE_A_MAG\") # request data from A only\n",
    "#request.set_collection(\"GRACE_B_MAG\") # request data from B only\n",
    "request.set_products(\n",
    "    measurements=request.PRODUCT_VARIABLES[\"MAG_GRACE\"],\n",
    "    #sampling_step=\"PT1S\", # ~1Hz sampling\n",
    ")\n",
    "\n",
    "data = request.get_between(\n",
    "    start_time=\"2016-01-01T04:35:00Z\",\n",
    "    end_time=\"2016-01-01T04:40:00Z\",\n",
    "    asynchronous=False,\n",
    ").as_xarray()\n",
    "\n",
    "print(data)"
   ]
  },
  {
   "cell_type": "markdown",
   "metadata": {},
   "source": [
    "## GRACE FO\n",
    "avaiable data: 2018-07-01/2018-07-31 and 2019-01-01/2019-01-31"
   ]
  },
  {
   "cell_type": "code",
   "execution_count": 6,
   "metadata": {},
   "outputs": [
    {
     "name": "stderr",
     "output_type": "stream",
     "text": [
      "      Downloading: 100%|██████████|  [ Elapsed: 00:00, Remaining: 00:00 ] (0.148MB)\n"
     ]
    },
    {
     "name": "stdout",
     "output_type": "stream",
     "text": [
      "<xarray.Dataset>\n",
      "Dimensions:     (B_FGM_dim1: 3, NEC: 3, Timestamp: 300, dB_BAT_FGM_dim1: 3, dB_BT_FGM_dim1: 3, dB_MTQ_FGM_dim1: 3, dB_NY_FGM_dim1: 3, dB_SA_FGM_dim1: 3, dB_ST_FGM_dim1: 3, dB_XI_FGM_dim1: 3, q_NEC_FGM_dim1: 4)\n",
      "Coordinates:\n",
      "  * Timestamp   (Timestamp) datetime64[ns] 2019-01-01T04:35:00 ... 2019-01-01T04:39:59\n",
      "  * NEC         (NEC) <U1 'N' 'E' 'C'\n",
      "Dimensions without coordinates: B_FGM_dim1, dB_BAT_FGM_dim1, dB_BT_FGM_dim1, dB_MTQ_FGM_dim1, dB_NY_FGM_dim1, dB_SA_FGM_dim1, dB_ST_FGM_dim1, dB_XI_FGM_dim1, q_NEC_FGM_dim1\n",
      "Data variables:\n",
      "    Spacecraft  (Timestamp) object '-' '-' '-' '-' '-' ... '-' '-' '-' '-' '-'\n",
      "    Latitude    (Timestamp) float64 6.508 6.445 6.381 ... -12.39 -12.45 -12.51\n",
      "    q_NEC_FGM   (Timestamp, q_NEC_FGM_dim1) float64 -0.0005446 ... -0.9999\n",
      "    dB_XI_FGM   (Timestamp, dB_XI_FGM_dim1) float64 7.356 7.143 ... 6.848 -1.819\n",
      "    dB_BT_FGM   (Timestamp, dB_BT_FGM_dim1) float64 0.8171 -0.6017 ... -0.1396\n",
      "    B_FGM       (Timestamp, B_FGM_dim1) float64 2.402e+04 ... -9.359e+03\n",
      "    dB_MTQ_FGM  (Timestamp, dB_MTQ_FGM_dim1) float64 -4.424 3.051 ... -6.243\n",
      "    B_NEC       (Timestamp, NEC) float64 2.396e+04 4.004e+03 ... -8.982e+03\n",
      "    dB_SA_FGM   (Timestamp, dB_SA_FGM_dim1) float64 0.2858 14.78 ... 13.1 3.981\n",
      "    dB_NY_FGM   (Timestamp, dB_NY_FGM_dim1) float64 -1.604 -1.911 ... 3.617\n",
      "    dB_BAT_FGM  (Timestamp, dB_BAT_FGM_dim1) float64 3.027 -1.061 ... -1.276\n",
      "    B_FLAG      (Timestamp) uint8 0 0 0 0 0 0 0 0 0 0 0 ... 0 0 0 0 0 0 0 0 0 0\n",
      "    Longitude   (Timestamp) float64 -140.3 -140.3 -140.3 ... -141.2 -141.2\n",
      "    Radius      (Timestamp) float64 6.864e+06 6.864e+06 ... 6.87e+06 6.87e+06\n",
      "    dB_ST_FGM   (Timestamp, dB_ST_FGM_dim1) float64 -2.897 -0.2493 ... -0.08798\n",
      "Attributes:\n",
      "    Sources:         ['GF1_OPER_FGM_ACAL_CORR_20190101T000000_20190101T235959...\n",
      "    MagneticModels:  []\n",
      "    RangeFilters:    []\n"
     ]
    }
   ],
   "source": [
    "\n",
    "SwarmRequest.COLLECTIONS[\"MAG_GF1\"] = [\"GF1_OPER_FGM_ACAL_CORR\"]\n",
    "\n",
    "SwarmRequest.PRODUCT_VARIABLES[\"MAG_GF1\"] = [\n",
    "    \"B_NEC\", \"B_FGM\", \"dB_MTQ_FGM\", \"dB_XI_FGM\", \"dB_NY_FGM\", \"dB_BT_FGM\",\n",
    "    \"dB_ST_FGM\", \"dB_SA_FGM\", \"dB_BAT_FGM\", \"q_NEC_FGM\", \"B_FLAG\",\n",
    "]\n",
    "\n",
    "request = SwarmRequest(SERVER_URL)\n",
    "request.set_collection(\"GF1_OPER_FGM_ACAL_CORR\")\n",
    "request.set_products(\n",
    "    measurements=request.PRODUCT_VARIABLES[\"MAG_GF1\"],\n",
    "    #sampling_step=\"PT1S\", # ~1Hz sampling\n",
    ")\n",
    "\n",
    "data = request.get_between(\n",
    "    start_time=\"2019-01-01T04:35:00Z\",\n",
    "    end_time=\"2019-01-01T04:40:00Z\",\n",
    "    asynchronous=False,\n",
    ").as_xarray()\n",
    "\n",
    "print(data)"
   ]
  },
  {
   "cell_type": "markdown",
   "metadata": {},
   "source": [
    "## e-POP (Swarm-E) MAG LR 1Hz - test products\n",
    "avaiable data: 2019-01-01/2019-01-31"
   ]
  },
  {
   "cell_type": "code",
   "execution_count": 7,
   "metadata": {},
   "outputs": [
    {
     "name": "stderr",
     "output_type": "stream",
     "text": [
      "      Downloading: 100%|██████████|  [ Elapsed: 00:00, Remaining: 00:00 ] (0.196MB)\n"
     ]
    },
    {
     "name": "stdout",
     "output_type": "stream",
     "text": [
      "<xarray.Dataset>\n",
      "Dimensions:         (B_inboard_VFM_dim1: 3, B_model_NEC_dim1: 3, B_outboard_VFM_dim1: 3, NEC: 3, Timestamp: 171, VFM: 3, quaternion: 4)\n",
      "Coordinates:\n",
      "  * Timestamp       (Timestamp) datetime64[ns] 2019-01-01T04:37:09 ... 2019-01-01T04:39:59\n",
      "  * NEC             (NEC) <U1 'N' 'E' 'C'\n",
      "  * VFM             (VFM) <U1 'i' 'j' 'k'\n",
      "  * quaternion      (quaternion) <U1 '1' 'i' 'j' 'k'\n",
      "Dimensions without coordinates: B_inboard_VFM_dim1, B_model_NEC_dim1, B_outboard_VFM_dim1\n",
      "Data variables:\n",
      "    Spacecraft      (Timestamp) object nan nan nan nan nan ... nan nan nan nan\n",
      "    B_NEC           (Timestamp, NEC) float64 1.995e+04 -4.436e+03 ... 227.0\n",
      "    B_inboard_VFM   (Timestamp, B_inboard_VFM_dim1) float64 1.837e+04 ... 444.4\n",
      "    Flags_F         (Timestamp) uint8 0 0 0 0 0 0 0 0 0 0 ... 0 0 0 0 0 0 0 0 0\n",
      "    q_NEC_CRF       (Timestamp, quaternion) float64 -0.9962 ... 0.07721\n",
      "    Flags_q         (Timestamp) uint8 0 0 0 0 0 0 0 0 0 0 ... 0 0 0 0 0 0 0 0 0\n",
      "    B_model_NEC     (Timestamp, B_model_NEC_dim1) float64 1.999e+04 ... 290.8\n",
      "    dF_other        (Timestamp) float64 nan nan nan nan nan ... nan nan nan nan\n",
      "    Latitude        (Timestamp) float64 -0.253 -0.1897 -0.1264 ... 10.55 10.62\n",
      "    Flags_Platform  (Timestamp) uint16 0 0 0 0 0 0 0 0 0 0 ... 0 0 0 0 0 0 0 0 0\n",
      "    B_error         (Timestamp, VFM) float64 nan nan nan nan ... nan nan nan nan\n",
      "    B_outboard_VFM  (Timestamp, B_outboard_VFM_dim1) float64 1.835e+04 ... 445.4\n",
      "    SyncStatus      (Timestamp) uint16 0 0 0 0 0 0 0 0 0 0 ... 0 0 0 0 0 0 0 0 0\n",
      "    F               (Timestamp) float64 2.222e+04 2.223e+04 ... 2.475e+04\n",
      "    Flags_B         (Timestamp) uint8 0 0 0 0 0 0 0 0 0 0 ... 0 0 0 0 0 0 0 0 0\n",
      "    Longitude       (Timestamp) float64 -19.2 -19.2 -19.19 ... -18.17 -18.17\n",
      "    dB_other        (Timestamp, VFM) float64 nan nan nan nan ... nan nan nan nan\n",
      "    Radius          (Timestamp) float64 6.909e+06 6.909e+06 ... 6.839e+06\n",
      "    B_VFM           (Timestamp, VFM) float64 1.837e+04 -7.5e+03 ... 444.4\n",
      "    F_error         (Timestamp) float64 nan nan nan nan nan ... nan nan nan nan\n",
      "    Att_error       (Timestamp) float64 nan nan nan nan nan ... nan nan nan nan\n",
      "Attributes:\n",
      "    Sources:         ['SW_TEST_MAGE_LR_1B_20190101T000000_20190101T235959_020...\n",
      "    MagneticModels:  []\n",
      "    RangeFilters:    []\n"
     ]
    }
   ],
   "source": [
    "\n",
    "SwarmRequest.COLLECTIONS[\"MAGE_LR_1B\"] = [\"SW_TEST_MAGE_LR_1B\"]\n",
    "\n",
    "SwarmRequest.PRODUCT_VARIABLES[\"MAGE_LR_1B\"] = [\n",
    "    \"F\", \"dF_other\", \"F_error\",\n",
    "    \"B_inboard_VFM\", \"B_outboard_VFM\", \"B_VFM\", \"B_NEC\", \"B_model_NEC\",\n",
    "    \"dB_other\", \"B_error\", \"q_NEC_CRF\", \"Att_error\",\n",
    "    \"Flags_F\", \"Flags_B\", \"Flags_q\", \"Flags_Platform\", \"SyncStatus\",\n",
    "]\n",
    "\n",
    "request = SwarmRequest(SERVER_URL)\n",
    "request.set_collection(\"SW_TEST_MAGE_LR_1B\")\n",
    "request.set_products(\n",
    "    measurements=request.PRODUCT_VARIABLES[\"MAGE_LR_1B\"],\n",
    "    #sampling_step=\"PT1S\", # ~1Hz sampling\n",
    ")\n",
    "\n",
    "data = request.get_between(\n",
    "    start_time=\"2019-01-01T04:35:00Z\",\n",
    "    end_time=\"2019-01-01T04:40:00Z\",\n",
    "    asynchronous=False,\n",
    ").as_xarray()\n",
    "\n",
    "print(data)"
   ]
  },
  {
   "cell_type": "markdown",
   "metadata": {},
   "source": [
    "## e-POP (Swarm-E) MAG HR 166Hz - test products\n",
    "avaiable data: 2019-01-01/2019-01-31"
   ]
  },
  {
   "cell_type": "code",
   "execution_count": 8,
   "metadata": {},
   "outputs": [
    {
     "name": "stderr",
     "output_type": "stream",
     "text": [
      "      Downloading: 100%|██████████|  [ Elapsed: 00:00, Remaining: 00:00 ] (7.0MB)\n"
     ]
    },
    {
     "name": "stdout",
     "output_type": "stream",
     "text": [
      "<xarray.Dataset>\n",
      "Dimensions:         (B_inboard_VFM_dim1: 3, B_model_NEC_dim1: 3, B_outboard_VFM_dim1: 3, NEC: 3, Timestamp: 27397, VFM: 3, quaternion: 4)\n",
      "Coordinates:\n",
      "  * Timestamp       (Timestamp) datetime64[ns] 2019-01-01T04:37:08.532359362 ... 2019-01-01T04:39:59.997046947\n",
      "  * NEC             (NEC) <U1 'N' 'E' 'C'\n",
      "  * VFM             (VFM) <U1 'i' 'j' 'k'\n",
      "  * quaternion      (quaternion) <U1 '1' 'i' 'j' 'k'\n",
      "Dimensions without coordinates: B_inboard_VFM_dim1, B_model_NEC_dim1, B_outboard_VFM_dim1\n",
      "Data variables:\n",
      "    Spacecraft      (Timestamp) object nan nan nan nan nan ... nan nan nan nan\n",
      "    B_NEC           (Timestamp, NEC) float64 1.995e+04 -4.437e+03 ... 298.5\n",
      "    B_inboard_VFM   (Timestamp, B_inboard_VFM_dim1) float64 1.837e+04 ... 518.2\n",
      "    q_NEC_CRF       (Timestamp, quaternion) float64 -0.9962 -0.001674 ... 0.0772\n",
      "    Flags_q         (Timestamp) uint8 0 0 0 0 0 0 0 0 0 0 ... 0 0 0 0 0 0 0 0 0\n",
      "    B_model_NEC     (Timestamp, B_model_NEC_dim1) float64 1.998e+04 ... 355.2\n",
      "    Latitude        (Timestamp) float64 -0.2826 -0.2822 -0.2818 ... 10.68 10.68\n",
      "    Flags_Platform  (Timestamp) uint16 0 0 0 0 0 0 0 0 0 0 ... 0 0 0 0 0 0 0 0 0\n",
      "    B_error         (Timestamp, VFM) float64 nan nan nan nan ... nan nan nan nan\n",
      "    B_outboard_VFM  (Timestamp, B_outboard_VFM_dim1) float64 1.833e+04 ... 516.2\n",
      "    SyncStatus      (Timestamp) uint16 0 0 0 0 0 0 0 0 0 0 ... 0 0 0 0 0 0 0 0 0\n",
      "    F               (Timestamp) float64 2.223e+04 2.223e+04 ... 2.476e+04\n",
      "    Flags_B         (Timestamp) uint8 0 0 0 0 0 0 0 0 0 0 ... 0 0 0 0 0 0 0 0 0\n",
      "    Longitude       (Timestamp) float64 -19.21 -19.21 -19.21 ... -18.16 -18.16\n",
      "    dB_other        (Timestamp, VFM) float64 nan nan nan nan ... nan nan nan nan\n",
      "    Radius          (Timestamp) float64 6.909e+06 6.909e+06 ... 6.839e+06\n",
      "    B_VFM           (Timestamp, VFM) float64 1.837e+04 -7.501e+03 ... 518.2\n",
      "    Att_error       (Timestamp) float64 nan nan nan nan nan ... nan nan nan nan\n",
      "Attributes:\n",
      "    Sources:         ['SW_TEST_MAGE_HR_1B_20190101T000000_20190101T235959_020...\n",
      "    MagneticModels:  []\n",
      "    RangeFilters:    []\n"
     ]
    }
   ],
   "source": [
    "SwarmRequest.COLLECTIONS[\"MAGE_HR_1B\"] = [\"SW_TEST_MAGE_HR_1B\"]\n",
    "\n",
    "SwarmRequest.PRODUCT_VARIABLES[\"MAGE_HR_1B\"] = [\n",
    "    #NOTE: F is calculated on the fly from B_NEC (F = |B_NEC|)\n",
    "    \"F\", \"B_inboard_VFM\", \"B_outboard_VFM\", \"B_VFM\", \"B_NEC\", \"B_model_NEC\",\n",
    "    \"dB_other\", \"B_error\", \"q_NEC_CRF\", \"Att_error\", \"Flags_B\", \"Flags_q\",\n",
    "    \"Flags_Platform\", \"SyncStatus\",\n",
    "]\n",
    "\n",
    "request = SwarmRequest(SERVER_URL)\n",
    "request.set_collection(\"SW_TEST_MAGE_HR_1B\")\n",
    "request.set_products(\n",
    "    measurements=request.PRODUCT_VARIABLES[\"MAGE_HR_1B\"],\n",
    "    #sampling_step=\"PT0.006S\", # ~166Hz sampling\n",
    ")\n",
    "\n",
    "data = request.get_between(\n",
    "    start_time=\"2019-01-01T04:35:00Z\",\n",
    "    end_time=\"2019-01-01T04:40:00Z\",\n",
    "    asynchronous=False,\n",
    ").as_xarray()\n",
    "\n",
    "print(data)"
   ]
  }
 ],
 "metadata": {
  "kernelspec": {
   "display_name": "Python 3",
   "language": "python",
   "name": "python3"
  },
  "language_info": {
   "codemirror_mode": {
    "name": "ipython",
    "version": 3
   },
   "file_extension": ".py",
   "mimetype": "text/x-python",
   "name": "python",
   "nbconvert_exporter": "python",
   "pygments_lexer": "ipython3",
   "version": "3.7.6"
  }
 },
 "nbformat": 4,
 "nbformat_minor": 4
}
