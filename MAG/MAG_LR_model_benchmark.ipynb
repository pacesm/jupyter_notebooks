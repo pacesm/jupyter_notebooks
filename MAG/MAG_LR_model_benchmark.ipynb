{
 "cells": [
  {
   "cell_type": "markdown",
   "id": "83b7a7bd-1878-451b-8b6f-a49286dc557d",
   "metadata": {},
   "source": [
    "## VirES - magnetic model benchmark\n",
    "\n",
    "Assess perfomance of the VirES magnetic model evaluation and other parameters wrt. the plain data rerival. \n",
    "Get per sample times.\n",
    "\n",
    "See also [VirES Python Client](https://github.com/ESA-VirES/VirES-Python-Client)"
   ]
  },
  {
   "cell_type": "code",
   "execution_count": 8,
   "id": "91b3ce04-2e60-4a49-b7a5-390ce105945a",
   "metadata": {},
   "outputs": [],
   "source": [
    "from viresclient import SwarmRequest\n",
    "\n",
    "request = SwarmRequest()\n",
    "\n",
    "\n",
    "SERVER_URL = \"https://vires.services\"\n",
    "OWS_URL = f\"{SERVER_URL}/ows\"\n",
    "HAPI_URL = f\"{SERVER_URL}/hapi\""
   ]
  },
  {
   "cell_type": "code",
   "execution_count": 19,
   "id": "0193f8be-a6f0-4677-946c-9590ad1ca8fc",
   "metadata": {},
   "outputs": [
    {
     "name": "stdout",
     "output_type": "stream",
     "text": [
      "{'startDate': datetime.datetime(2013, 11, 25, 11, 2, 52), 'stopDate': datetime.datetime(2022, 10, 23, 23, 59, 59)}\n"
     ]
    }
   ],
   "source": [
    "import requests\n",
    "from viresclient._wps.time_util import parse_datetime\n",
    "\n",
    "def get_collection_date_range(collection):\n",
    "    \"\"\" Get collection start and stop dates. \"\"\"\n",
    "    info = requests.get(f\"{HAPI_URL}/info?dataset={collection}\").json()\n",
    "    return {\n",
    "        \"startDate\": parse_datetime(info[\"startDate\"]),\n",
    "        \"stopDate\": parse_datetime(info[\"stopDate\"]),\n",
    "    }\n",
    "    \n",
    "print(get_collection_date_range(\"SW_OPER_MAGA_LR_1B\"))\n"
   ]
  },
  {
   "cell_type": "code",
   "execution_count": 34,
   "id": "04deb410-129e-477a-bc5e-2792a9675b89",
   "metadata": {},
   "outputs": [],
   "source": [
    "from datetime import datetime\n",
    "\n",
    "\n",
    "def get_request_time(collection, start_time, end_time, auxiliaries=None, models=None, filter=None):\n",
    "    request = SwarmRequest(OWS_URL)\n",
    "    request.set_collection(collection)\n",
    "    request.set_products(\n",
    "        measurements=[\"B_NEC\"],\n",
    "        auxiliaries=auxiliaries,\n",
    "        models=models,\n",
    "    )\n",
    "    if filter:\n",
    "        request.add_filter(filter)\n",
    "    request_start = datetime.now()\n",
    "    data = request.get_between(\n",
    "        start_time=start_time,\n",
    "        end_time=end_time,\n",
    "        asynchronous=False,\n",
    "    )\n",
    "    request_stop = datetime.now()\n",
    "    xdata = data.as_xarray() \n",
    "    size = xdata[\"Timestamp\"].shape[0]\n",
    "    print(size, list(xdata))\n",
    "    # time per sample in seconds\n",
    "    return (request_stop - request_start).total_seconds() / size\n"
   ]
  },
  {
   "cell_type": "code",
   "execution_count": null,
   "id": "634b4e2b-a83d-49ff-8f9f-c0989b1db4e9",
   "metadata": {},
   "outputs": [
    {
     "name": "stdout",
     "output_type": "stream",
     "text": [
      "{'startDate': datetime.datetime(2013, 11, 25, 11, 2, 52), 'stopDate': datetime.datetime(2022, 10, 23, 23, 59, 59)}\n"
     ]
    },
    {
     "data": {
      "application/vnd.jupyter.widget-view+json": {
       "model_id": "1d4f2fc04bbf4b1cb6c97b07ce25eaf6",
       "version_major": 2,
       "version_minor": 0
      },
      "text/plain": [
       "Downloading:   0%|          |  [ Elapsed: 00:00, Remaining: ? ] (4.929MB)"
      ]
     },
     "metadata": {},
     "output_type": "display_data"
    },
    {
     "name": "stdout",
     "output_type": "stream",
     "text": [
      "86400 ['Spacecraft', 'Latitude', 'B_NEC', 'Radius', 'Longitude']\n",
      "2.414213e-06 s per sample\n"
     ]
    },
    {
     "data": {
      "application/vnd.jupyter.widget-view+json": {
       "model_id": "2ea070045d784da6bb0724bf6b19bf2f",
       "version_major": 2,
       "version_minor": 0
      },
      "text/plain": [
       "Downloading:   0%|          |  [ Elapsed: 00:00, Remaining: ? ] (4.929MB)"
      ]
     },
     "metadata": {},
     "output_type": "display_data"
    },
    {
     "name": "stdout",
     "output_type": "stream",
     "text": [
      "86400 ['Spacecraft', 'Latitude', 'B_NEC', 'Radius', 'Longitude']\n",
      "2.622708e-06 s per sample\n"
     ]
    },
    {
     "data": {
      "application/vnd.jupyter.widget-view+json": {
       "model_id": "90d9101b89ef477484347ff6f5bc07ed",
       "version_major": 2,
       "version_minor": 0
      },
      "text/plain": [
       "Downloading:   0%|          |  [ Elapsed: 00:00, Remaining: ? ] (5.621MB)"
      ]
     },
     "metadata": {},
     "output_type": "display_data"
    },
    {
     "name": "stdout",
     "output_type": "stream",
     "text": [
      "86400 ['Spacecraft', 'Latitude', 'Radius', 'B_NEC', 'Longitude', 'QDLat']\n",
      "4.220579e-06 s per sample\n"
     ]
    },
    {
     "data": {
      "application/vnd.jupyter.widget-view+json": {
       "model_id": "66fe3135414344499478f5ed14b8875e",
       "version_major": 2,
       "version_minor": 0
      },
      "text/plain": [
       "Downloading:   0%|          |  [ Elapsed: 00:00, Remaining: ? ] (5.621MB)"
      ]
     },
     "metadata": {},
     "output_type": "display_data"
    },
    {
     "name": "stdout",
     "output_type": "stream",
     "text": [
      "86400 ['Spacecraft', 'Latitude', 'Radius', 'B_NEC', 'MLT', 'Longitude']\n",
      "4.463808e-06 s per sample\n"
     ]
    },
    {
     "data": {
      "application/vnd.jupyter.widget-view+json": {
       "model_id": "496a953b05704a5fb417191501bbcd9f",
       "version_major": 2,
       "version_minor": 0
      },
      "text/plain": [
       "Downloading:   0%|          |  [ Elapsed: 00:00, Remaining: ? ] (6.312MB)"
      ]
     },
     "metadata": {},
     "output_type": "display_data"
    },
    {
     "name": "stdout",
     "output_type": "stream",
     "text": [
      "86400 ['Spacecraft', 'Latitude', 'Radius', 'B_NEC', 'MLT', 'Longitude', 'QDLat']\n",
      "4.685405e-06 s per sample\n"
     ]
    },
    {
     "data": {
      "application/vnd.jupyter.widget-view+json": {
       "model_id": "a24ef44bcd00405ca40708754451af37",
       "version_major": 2,
       "version_minor": 0
      },
      "text/plain": [
       "Downloading:   0%|          |  [ Elapsed: 00:00, Remaining: ? ] (7.003MB)"
      ]
     },
     "metadata": {},
     "output_type": "display_data"
    },
    {
     "name": "stdout",
     "output_type": "stream",
     "text": [
      "86400 ['Spacecraft', 'Latitude', 'B_NEC_CHAOS-Core', 'Radius', 'B_NEC', 'Longitude']\n",
      "6.393581e-05 s per sample\n"
     ]
    },
    {
     "data": {
      "application/vnd.jupyter.widget-view+json": {
       "model_id": "0d2d8361159b40f589d61c5dfde82787",
       "version_major": 2,
       "version_minor": 0
      },
      "text/plain": [
       "Downloading:   0%|          |  [ Elapsed: 00:00, Remaining: ? ] (7.003MB)"
      ]
     },
     "metadata": {},
     "output_type": "display_data"
    },
    {
     "name": "stdout",
     "output_type": "stream",
     "text": [
      "86400 ['Spacecraft', 'Latitude', 'B_NEC_CHAOS-Static', 'Radius', 'B_NEC', 'Longitude']\n",
      "2.867335e-04 s per sample\n"
     ]
    },
    {
     "data": {
      "application/vnd.jupyter.widget-view+json": {
       "model_id": "cc8527bcf72649ff9648b82b7a6376f2",
       "version_major": 2,
       "version_minor": 0
      },
      "text/plain": [
       "Downloading:   0%|          |  [ Elapsed: 00:00, Remaining: ? ] (7.003MB)"
      ]
     },
     "metadata": {},
     "output_type": "display_data"
    },
    {
     "name": "stdout",
     "output_type": "stream",
     "text": [
      "86400 ['Spacecraft', 'Latitude', 'Radius', 'B_NEC', 'Longitude', 'B_NEC_CHAOS-MMA']\n",
      "1.453569e-03 s per sample\n"
     ]
    },
    {
     "data": {
      "application/vnd.jupyter.widget-view+json": {
       "model_id": "bcfd62eb1c3d4199b6c0a97925112cf3",
       "version_major": 2,
       "version_minor": 0
      },
      "text/plain": [
       "Downloading:   0%|          |  [ Elapsed: 00:00, Remaining: ? ] (7.003MB)"
      ]
     },
     "metadata": {},
     "output_type": "display_data"
    },
    {
     "name": "stdout",
     "output_type": "stream",
     "text": [
      "86400 ['Spacecraft', 'Latitude', 'Radius', 'B_NEC', 'Longitude', 'B_NEC_CHAOS-MMA-Primary']\n",
      "7.284539e-04 s per sample\n"
     ]
    },
    {
     "data": {
      "application/vnd.jupyter.widget-view+json": {
       "model_id": "aa57edf6aab24cbbb59fee772ea48b86",
       "version_major": 2,
       "version_minor": 0
      },
      "text/plain": [
       "Downloading:   0%|          |  [ Elapsed: 00:00, Remaining: ? ] (7.003MB)"
      ]
     },
     "metadata": {},
     "output_type": "display_data"
    },
    {
     "name": "stdout",
     "output_type": "stream",
     "text": [
      "86400 ['Spacecraft', 'Latitude', 'Radius', 'B_NEC_CHAOS-MMA-Secondary', 'B_NEC', 'Longitude']\n",
      "7.103467e-04 s per sample\n"
     ]
    }
   ],
   "source": [
    "COLLECTION = {\n",
    "    \"A\": \"SW_OPER_MAGA_LR_1B\",\n",
    "    \"B\": \"SW_OPER_MAGB_LR_1B\",\n",
    "    \"C\": \"SW_OPER_MAGC_LR_1B\",\n",
    "}\n",
    "\n",
    "SPACECRAFT = \"A\"\n",
    "\n",
    "\n",
    "# get time-span of the collection\n",
    "print(get_collection_date_range(COLLECTION[SPACECRAFT]))\n",
    "\n",
    "\n",
    "# plain data request\n",
    "time = get_request_time(\n",
    "    collection=COLLECTION[\"A\"],\n",
    "    start_time = \"2019-06-01\", # both iso-date/time string or datetime.datetime object is accepted\n",
    "    end_time = \"2019-06-02\",\n",
    ")\n",
    "print(f\"{time:e} s per sample\")\n",
    "\n",
    "\n",
    "# plain data request with filter\n",
    "time = get_request_time(\n",
    "    collection=COLLECTION[\"A\"],\n",
    "    start_time = \"2019-06-01\", # both iso-date/time string or datetime.datetime object is accepted\n",
    "    end_time = \"2019-06-02\",\n",
    "    filter=\"Flags_B != 255\", # strip no-dadata values\n",
    ")\n",
    "print(f\"{time:e} s per sample\")\n",
    "\n",
    "# plain data request with Quasi-Dipole Latitude (QDLatitude)\n",
    "time = get_request_time(\n",
    "    collection=COLLECTION[\"A\"],\n",
    "    start_time = \"2019-06-01\", # both iso-date/time string or datetime.datetime object is accepted\n",
    "    end_time = \"2019-06-02\",\n",
    "    auxiliaries=[\"QDLat\"],\n",
    ")\n",
    "print(f\"{time:e} s per sample\")\n",
    "\n",
    "# plain data request with Magnetic Local Time (MLT)\n",
    "time = get_request_time(\n",
    "    collection=COLLECTION[\"A\"],\n",
    "    start_time = \"2019-06-01\", # both iso-date/time string or datetime.datetime object is accepted\n",
    "    end_time = \"2019-06-02\",\n",
    "    auxiliaries=[\"MLT\"],\n",
    ")\n",
    "print(f\"{time:e} s per sample\")\n",
    "\n",
    "\n",
    "# plain data request with QD-coordinates\n",
    "time = get_request_time(\n",
    "    collection=COLLECTION[\"A\"],\n",
    "    start_time = \"2019-06-01\", # both iso-date/time string or datetime.datetime object is accepted\n",
    "    end_time = \"2019-06-02\",\n",
    "    auxiliaries=[\"MLT\", \"QDLat\"],\n",
    ")\n",
    "print(f\"{time:e} s per sample\")\n",
    "\n",
    "\n",
    "# plain data request with CHAOS-Core model\n",
    "time = get_request_time(\n",
    "    collection=COLLECTION[\"A\"],\n",
    "    start_time = \"2019-06-01\", # both iso-date/time string or datetime.datetime object is accepted\n",
    "    end_time = \"2019-06-02\",\n",
    "    models=[\"CHAOS-Core\"],\n",
    ")\n",
    "print(f\"{time:e} s per sample\")\n",
    "\n",
    "# plain data request with CHAOS-Static model\n",
    "time = get_request_time(\n",
    "    collection=COLLECTION[\"A\"],\n",
    "    start_time = \"2019-06-01\", # both iso-date/time string or datetime.datetime object is accepted\n",
    "    end_time = \"2019-06-02\",\n",
    "    models=[\"CHAOS-Static\"],\n",
    ")\n",
    "print(f\"{time:e} s per sample\")\n",
    "\n",
    "\n",
    "# plain data request with CHAOS-MMA model (CHAOS-MMA-Primary + CHAOS-MMA-Secondary)\n",
    "time = get_request_time(\n",
    "    collection=COLLECTION[\"A\"],\n",
    "    start_time = \"2019-06-01\", # both iso-date/time string or datetime.datetime object is accepted\n",
    "    end_time = \"2019-06-02\",\n",
    "    models=[\"CHAOS-MMA\"],\n",
    ")\n",
    "print(f\"{time:e} s per sample\")\n",
    "\n",
    "# plain data request with CHAOS-MMA-Primary model\n",
    "time = get_request_time(\n",
    "    collection=COLLECTION[\"A\"],\n",
    "    start_time = \"2019-06-01\", # both iso-date/time string or datetime.datetime object is accepted\n",
    "    end_time = \"2019-06-02\",\n",
    "    models=[\"CHAOS-MMA-Primary\"],\n",
    ")\n",
    "print(f\"{time:e} s per sample\")\n",
    "\n",
    "\n",
    "# plain data request with CHAOS-MMA-Secondary model\n",
    "time = get_request_time(\n",
    "    collection=COLLECTION[\"A\"],\n",
    "    start_time = \"2019-06-01\", # both iso-date/time string or datetime.datetime object is accepted\n",
    "    end_time = \"2019-06-02\",\n",
    "    models=[\"CHAOS-MMA-Secondary\"],\n",
    ")\n",
    "print(f\"{time:e} s per sample\")\n",
    "\n",
    "\n",
    "# plain data request with CHAOS (complete) model (CHAOS-Core + CHAOS-Static + CHAOS-MMA-Primary + CHAOS-MMA-Secondary)\n",
    "time = get_request_time(\n",
    "    collection=COLLECTION[\"A\"],\n",
    "    start_time = \"2019-06-01\", # both iso-date/time string or datetime.datetime object is accepted\n",
    "    end_time = \"2019-06-02\",\n",
    "    models=[\"CHAOS\"],\n",
    ")\n",
    "print(f\"{time:e} s per sample\")\n",
    "\n",
    "\n",
    "# plain data request with CHAOS (complete) model (CHAOS-Core + CHAOS-Static + CHAOS-MMA-Primary + CHAOS-MMA-Secondary) / short request\n",
    "time = get_request_time(\n",
    "    collection=COLLECTION[\"A\"],\n",
    "    start_time = \"2019-06-01\", # both iso-date/time string or datetime.datetime object is accepted\n",
    "    end_time = \"2019-06-01T01:00Z\",\n",
    "    models=[\"CHAOS\"],\n",
    ")\n",
    "print(f\"{time:e} s per sample\")"
   ]
  }
 ],
 "metadata": {
  "kernelspec": {
   "display_name": "Python 3 (ipykernel)",
   "language": "python",
   "name": "python3"
  },
  "language_info": {
   "codemirror_mode": {
    "name": "ipython",
    "version": 3
   },
   "file_extension": ".py",
   "mimetype": "text/x-python",
   "name": "python",
   "nbconvert_exporter": "python",
   "pygments_lexer": "ipython3",
   "version": "3.9.7"
  }
 },
 "nbformat": 4,
 "nbformat_minor": 5
}
