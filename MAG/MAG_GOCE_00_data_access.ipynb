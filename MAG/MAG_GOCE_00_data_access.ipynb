{
 "cells": [
  {
   "cell_type": "markdown",
   "id": "a37a6b45-eacb-4a9a-82b3-728d2b8a6848",
   "metadata": {},
   "source": [
    "# MAG GOCE Products in VirES\n",
    "\n",
    "This notebook demonstrates access to the calibrated GOCE platfort magnetometer data ([`GOCE_MAG` products](https://doi.org/10.5880/GFZ.2.3.2022.001),  2009-11-01/2013-09-30). The available variables and their mapping to source product variables are provided."
   ]
  },
  {
   "cell_type": "code",
   "execution_count": 1,
   "id": "9e4ec8a2-6405-425a-a497-8ab52da18d75",
   "metadata": {},
   "outputs": [],
   "source": [
    "from viresclient import SwarmRequest\n",
    "\n",
    "SERVER_URL = \"https://vires.services/ows\""
   ]
  },
  {
   "cell_type": "markdown",
   "id": "00033deb-b1f4-4dbd-8d5b-d93c1d610af6",
   "metadata": {},
   "source": [
    "## GOCE Calibrated Platform Magmetometer Measurements\n",
    "\n",
    "### Collections\n",
    "\n",
    "| Collection | Dataset |\n",
    "|---|---|\n",
    "|`GO_MAG_ACAL_CORR`| GOCE calibrated platform magmetometer measurements |\n",
    "\n",
    "\n",
    "### Avaiable Variables\n",
    "\n",
    "| VirES Variable | Source Product Variable | Unit | Dimension | Description | \n",
    "|---|---|---|---|---|\n",
    "| `Timestamp` | `Timestamp` | $$-$$ | scalar | UTC time-stamp|\n",
    "| `Latitude` | n/a | $$\\text{deg}$$ | scalar | ITRF geocentric latitude calculated from the source geodetic coordinates |\n",
    "| `Longitude` | n/a | $$\\text{deg}$$ | scalar | ITRF geocentric longitude calculated from the source geodetic coordinates |\n",
    "| `Radius` | n/a | $$\\text{m}$$ | scalar | ITRF geocentric radius calculated from the source geodetic coordinates |\n",
    "| `F` | `F`| $$\\text{nT}$$ | scalar | Magnetic field intentity (calculated from `B_NEC`) |\n",
    "| `B_MAG` | `B_MAG`| $$\\text{nT}$$ | vector[3] | Fluxgate magnetometer, combined MAG, aligned, vector-vector calibrated and corrected for satellite disturbances, S/C frame |\n",
    "| `B_NEC` | `B_NEC`| $$\\text{nT}$$ | vector[3] | Fluxgate magnetometer, combined MAG, aligned, vector-vector calibrated and corrected for satellite disturbances, NEC frame |\n",
    "| `dB_MTQ_SC` | `dB_MTQ_SC`| $$\\text{nT}$$ | vector[3] | Disturbance field related to magnetorquer, SC frame |\n",
    "| `dB_XI_SC` | `dB_XI_SC`| $$\\text{nT}$$ | vector[3] | Disturbance field related to 2nd order non-linearities, SC frame |\n",
    "| `dB_NY_SC` | `dB_NY_SC`| $$\\text{nT}$$ | vector[3] | Disturbance field related to 3rd order non-linearities, SC frame |\n",
    "| `dB_BT_SC` | `dB_BT_SC`| $$\\text{nT}$$ | vector[3] | Disturbance field related to temperature dependency of offsets, SC frame |\n",
    "| `dB_ST_SC` | `dB_ST_SC`| $$\\text{nT}$$ | vector[3] | Disturbance field related to temperature dependency of scale factors, SC frame |\n",
    "| `dB_SA_SC` | `dB_SA_SC`| $$\\text{nT}$$ | vector[3] | Disturbance field related to solar array currents, SC frame |\n",
    "| `dB_BAT_SC` | `dB_BAT_SC`| $$\\text{nT}$$ | vector[3] | Disturbance field related to battery currents, SC frame |\n",
    "| `dB_HK_SC` | `dB_HK_SC`| $$\\text{nT}$$ | vector[3] | Disturbance field related to housekeeping data, SC frame |\n",
    "| `dB_BLOCK_CORR` | `dB_BLOCK_CORR`| $$\\text{nT}$$ | vector[3] | Block correction for MAG2 and MAG3, MAG frame |\n",
    "| `B_FLAG` | `B_FLAG` | $$-$$ | scalar | Data quality flags |\n",
    "| `q_SC_NEC` | `q_SC_NEC` | $$-$$ | vector[4] | Quaternion, transformation from S/C to NEC frame |\n",
    "| `q_MAG_SC` | `q_MAG_SC` | $$-$$ | vector[4] | Quaternion, transformation from MAG to S/C frame |\n",
    "\n",
    "\n",
    "Meaning of the `B_FLAG` bit masks:\n",
    "\n",
    "| bit no. | hex. value | dec. value | meaning\n",
    "|---|---|---|---|\n",
    "| 0 | 0x01 | 1 | Missing MAG1 |\n",
    "| 1 | 0x02 | 2 | Missing MAG2 |\n",
    "| 2 | 0x04 | 4 | Missing MAG3 |\n",
    "| 3 | 0x08 | 8 | MTQ1 saturated |\n",
    "| 4 | 0x10 | 16 | MTQ2 saturated |\n",
    "| 5 | 0x20 | 32 | MTQ3 saturated |\n",
    "| 6 | 0x40 | 64 | Interpolation error |\n",
    "| 7 | 0x80 | 128 | Position error |\n",
    "\n",
    "See the [GOCE MAG dataset documentation](https://doi.org/10.5880/GFZ.2.3.2022.001) for more details."
   ]
  },
  {
   "cell_type": "code",
   "execution_count": 2,
   "id": "98acd6f3-304b-4f79-9663-adda88231aaa",
   "metadata": {},
   "outputs": [
    {
     "data": {
      "application/vnd.jupyter.widget-view+json": {
       "model_id": "7344ea6145674045ad5d817743966e48",
       "version_major": 2,
       "version_minor": 0
      },
      "text/plain": [
       "Processing:    0%|          |  [ Elapsed: 00:00, Remaining: ? ] [1/1] "
      ]
     },
     "metadata": {},
     "output_type": "display_data"
    },
    {
     "data": {
      "application/vnd.jupyter.widget-view+json": {
       "model_id": "4814bc3f2f884607a42f4f43fe0a334d",
       "version_major": 2,
       "version_minor": 0
      },
      "text/plain": [
       "Downloading:   0%|          |  [ Elapsed: 00:00, Remaining: ? ] (2.425MB)"
      ]
     },
     "metadata": {},
     "output_type": "display_data"
    },
    {
     "name": "stdout",
     "output_type": "stream",
     "text": [
      "Requested variables F, B_MAG, B_NEC, dB_MTQ_SC, dB_XI_SC, dB_NY_SC, dB_BT_SC, dB_ST_SC, dB_SA_SC, dB_BAT_SC, dB_HK_SC, dB_BLOCK_CORR, q_SC_NEC, q_MAG_SC, B_FLAG\n",
      "Response: <xarray.Dataset>\n",
      "Dimensions:        (Timestamp: 5397, dB_XI_SC_dim1: 3, q_MAG_SC_dim1: 4,\n",
      "                    B_MAG_dim1: 3, q_SC_NEC_dim1: 4, dB_SA_SC_dim1: 3,\n",
      "                    dB_BT_SC_dim1: 3, dB_BLOCK_CORR_dim1: 6, dB_NY_SC_dim1: 3,\n",
      "                    dB_MTQ_SC_dim1: 3, NEC: 3, dB_HK_SC_dim1: 3,\n",
      "                    dB_BAT_SC_dim1: 3, dB_ST_SC_dim1: 3)\n",
      "Coordinates:\n",
      "  * Timestamp      (Timestamp) datetime64[ns] 2010-01-01T00:00:08.392000 ... ...\n",
      "  * NEC            (NEC) <U1 'N' 'E' 'C'\n",
      "Dimensions without coordinates: dB_XI_SC_dim1, q_MAG_SC_dim1, B_MAG_dim1,\n",
      "                                q_SC_NEC_dim1, dB_SA_SC_dim1, dB_BT_SC_dim1,\n",
      "                                dB_BLOCK_CORR_dim1, dB_NY_SC_dim1,\n",
      "                                dB_MTQ_SC_dim1, dB_HK_SC_dim1, dB_BAT_SC_dim1,\n",
      "                                dB_ST_SC_dim1\n",
      "Data variables: (12/23)\n",
      "    Spacecraft     (Timestamp) object '-' '-' '-' '-' '-' ... '-' '-' '-' '-'\n",
      "    F              (Timestamp) float64 4.45e+04 4.396e+04 ... 3.744e+04\n",
      "    dB_XI_SC       (Timestamp, dB_XI_SC_dim1) float64 -5.493 9.232 ... 8.829\n",
      "    F_CHAOS        (Timestamp) float64 4.45e+04 4.397e+04 ... 3.743e+04\n",
      "    q_MAG_SC       (Timestamp, q_MAG_SC_dim1) float64 0.0 1.0 0.0 ... 0.0 0.0\n",
      "    B_MAG          (Timestamp, B_MAG_dim1) float64 -2.868e+04 ... 1.154e+04\n",
      "    ...             ...\n",
      "    MLT            (Timestamp) float64 6.25 6.237 6.223 ... 6.089 6.079 6.069\n",
      "    B_NEC_CHAOS    (Timestamp, NEC) float64 2.93e+04 -491.7 ... -566.9 1.165e+04\n",
      "    dB_HK_SC       (Timestamp, dB_HK_SC_dim1) float64 120.1 -57.93 ... 45.92\n",
      "    Radius         (Timestamp) float64 6.633e+06 6.633e+06 ... 6.634e+06\n",
      "    dB_BAT_SC      (Timestamp, dB_BAT_SC_dim1) float64 1.505 0.9993 ... 4.338\n",
      "    dB_ST_SC       (Timestamp, dB_ST_SC_dim1) float64 -0.08106 -4.05 ... -2.434\n",
      "Attributes:\n",
      "    Sources:         ['CHAOS-7_static.shc', 'GO_MAG_ACAL_CORR_20100101T000008...\n",
      "    MagneticModels:  [\"CHAOS = 'CHAOS-Core'(max_degree=20,min_degree=1) + 'CH...\n",
      "    AppliedFilters:  []\n"
     ]
    }
   ],
   "source": [
    "request = SwarmRequest(SERVER_URL)\n",
    "request.set_collection(\"GO_MAG_ACAL_CORR\")\n",
    "request.set_products(\n",
    "    measurements=request.PRODUCT_VARIABLES[\"MAG_GOCE\"],\n",
    "    auxiliaries=[\"QDLat\", \"MLT\"],\n",
    "    models=['CHAOS'],\n",
    "    sampling_step=\"PT16S\",\n",
    ")\n",
    "\n",
    "data = request.get_between(\n",
    "    start_time=\"2010-01-01T00:00:00Z\",\n",
    "    end_time=\"2010-01-02T00:00:00Z\",\n",
    ").as_xarray()\n",
    "\n",
    "print(\"Requested variables\", \", \".join(SwarmRequest.PRODUCT_VARIABLES[\"MAG_GOCE\"]))\n",
    "print(\"Response:\", data)"
   ]
  }
 ],
 "metadata": {
  "kernelspec": {
   "display_name": "Python 3 (ipykernel)",
   "language": "python",
   "name": "python3"
  },
  "language_info": {
   "codemirror_mode": {
    "name": "ipython",
    "version": 3
   },
   "file_extension": ".py",
   "mimetype": "text/x-python",
   "name": "python",
   "nbconvert_exporter": "python",
   "pygments_lexer": "ipython3",
   "version": "3.9.7"
  }
 },
 "nbformat": 4,
 "nbformat_minor": 5
}
