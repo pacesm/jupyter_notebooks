{
 "cells": [
  {
   "cell_type": "markdown",
   "metadata": {},
   "source": [
    "# AEBS products in VirES\n",
    "\n",
    "This notebook demonstrates access to the AEBS products data by means of the vires client."
   ]
  },
  {
   "cell_type": "code",
   "execution_count": 1,
   "metadata": {},
   "outputs": [],
   "source": [
    "from viresclient import SwarmRequest\n",
    "\n",
    "#server_url = 'https://staging.viresdisc.vires.services/ows'\n",
    "server_url = 'https://testing.vires.services/ows'"
   ]
  },
  {
   "cell_type": "markdown",
   "metadata": {},
   "source": [
    "## AEJxLPL product\n",
    "\n",
    "Avaiables Variables:\n",
    "\n",
    "| Variable | Unit | Dimension | Description | \n",
    "|---|---|---|---|\n",
    "| `Timestamp` | $-$ | scalar |UTC time of observation |\n",
    "| `Latitude` | $\\text{deg}$ | scalar | ITRF geocentric latitude |\n",
    "| `Longitude` | $\\text{deg}$ | scalar | ITRF geocentric longitude |\n",
    "| `Latitude_QD` | $\\text{deg}$ | scalar | Quasi-dipole latitude |\n",
    "| `Longitude_QD` | $\\text{deg}$ | scalar | Quasi-dipole longitude |\n",
    "| `MLT_QD` | $\\text{hour}$ | scalar | Magnetic local time (QD) |\n",
    "| `J` | $\\text{A}\\ \\text{km}^{-1}$ | vector [2] | North and East component of horizontal sheet current density vector in the geocentric frame |\n",
    "| `J_QD` | $\\text{A}\\ \\text{km}^{-1}$ | scalar | East component of horizontal sheet current density in QD frame |\n",
    "\n",
    "Note: If the standard VirES `QDLat`, `QDLat` and `MLT` auxialiary variables default to the `Latitude_QD`, `Longitude_QD`, `MLT_QD` stored in AEBS products if they cannot be calculated from the times and locations. (Locations in the AEBS products are incomplete due to the missing `Radius` and they cannot be used to calucate the magnetic coordinates.)\n"
   ]
  },
  {
   "cell_type": "code",
   "execution_count": 2,
   "metadata": {},
   "outputs": [
    {
     "name": "stderr",
     "output_type": "stream",
     "text": [
      "[1/1] Processing:  100%|██████████|  [ Elapsed: 00:01, Remaining: 00:00 ]\n",
      "      Downloading: 100%|██████████|  [ Elapsed: 00:00, Remaining: 00:00 ] (0.244MB)\n"
     ]
    },
    {
     "name": "stdout",
     "output_type": "stream",
     "text": [
      "<xarray.Dataset>\n",
      "Dimensions:       (J_dim1: 2, Timestamp: 2380)\n",
      "Coordinates:\n",
      "  * Timestamp     (Timestamp) datetime64[ns] 2015-06-01T00:35:01.796867132 ... 2015-06-01T23:33:26.110890627\n",
      "Dimensions without coordinates: J_dim1\n",
      "Data variables:\n",
      "    Spacecraft    (Timestamp) object 'A' 'A' 'A' 'A' 'A' ... 'A' 'A' 'A' 'A' 'A'\n",
      "    J_QD          (Timestamp) float64 -38.53 -41.53 -43.31 ... -20.11 -18.99\n",
      "    MLT           (Timestamp) float64 12.73 12.72 12.71 ... 14.05 14.01 13.97\n",
      "    Longitude_QD  (Timestamp) float64 -108.8 -109.0 -109.2 ... -74.72 -75.39\n",
      "    Latitude      (Timestamp) float64 53.96 54.96 55.96 ... -51.34 -50.34 -49.34\n",
      "    J             (Timestamp, J_dim1) float64 8.112 -37.66 8.85 ... 6.264 -17.93\n",
      "    Longitude     (Timestamp) float64 -172.3 -172.2 -172.2 ... -165.0 -164.9\n",
      "    QDLat         (Timestamp) float64 50.24 51.28 52.32 ... -53.14 -52.17 -51.2\n",
      "    MLT_QD        (Timestamp) float64 12.73 12.72 12.71 ... 14.05 14.01 13.97\n",
      "    Latitude_QD   (Timestamp) float64 50.24 51.28 52.32 ... -53.14 -52.17 -51.2\n",
      "    QDLon         (Timestamp) float64 -108.8 -109.0 -109.2 ... -74.72 -75.39\n",
      "Attributes:\n",
      "    Sources:         ['SW_OPER_AEJALPL_2F_20150601T000000_20150601T235959_0101']\n",
      "    MagneticModels:  []\n",
      "    RangeFilters:    []\n"
     ]
    }
   ],
   "source": [
    "SwarmRequest.COLLECTIONS['AEJ_LPL'] = [\n",
    "    'SW_OPER_AEJ{}LPL_2F'.format(x) for x in 'ABC'\n",
    "]\n",
    "\n",
    "SwarmRequest.PRODUCT_VARIABLES['AEJ_LPL'] = [\n",
    "    'Latitude_QD', 'Longitude_QD', 'MLT_QD', 'J', 'J_QD',\n",
    "]\n",
    "\n",
    "request = SwarmRequest(server_url)\n",
    "request.set_collection('SW_OPER_AEJALPL_2F')\n",
    "request.set_products(\n",
    "    measurements=['Latitude_QD', 'Longitude_QD', 'MLT_QD', 'J', 'J_QD'],\n",
    "    auxiliaries=['QDLat', 'QDLon', 'MLT'],\n",
    ")\n",
    "\n",
    "data = request.get_between(\n",
    "    start_time='2015-06-01T00:00:00Z',\n",
    "    end_time='2015-06-02T00:00:00Z'\n",
    ").as_xarray()\n",
    "\n",
    "print(data)"
   ]
  },
  {
   "cell_type": "markdown",
   "metadata": {},
   "source": [
    "## AEJxLPL product quality\n",
    "\n",
    "The AEJxLPL quality information is accessible as a separate dataset.\n",
    "\n",
    "Avaiables Variables:\n",
    "\n",
    "| Variable | Unit | Dimension | Description | \n",
    "|---|---|---|---|\n",
    "| `Timestamp` | $-$ | scalar | UTC timestamp of the quality record |\n",
    "| `RMS_misfit` | $\\text{nT}$ | scalar | Root Mean Square error misfit between observations and model values for the oval crossing |\n",
    "| `Confidence` | $-$ | scalar | Goodness of fit computed as 1 - (residual rms / signal rms) for the oval crossing |\n"
   ]
  },
  {
   "cell_type": "code",
   "execution_count": 3,
   "metadata": {},
   "outputs": [
    {
     "name": "stderr",
     "output_type": "stream",
     "text": [
      "[1/1] Processing:  100%|██████████|  [ Elapsed: 00:01, Remaining: 00:00 ]\n",
      "      Downloading: 100%|██████████|  [ Elapsed: 00:00, Remaining: 00:00 ] (0.037MB)\n"
     ]
    },
    {
     "name": "stdout",
     "output_type": "stream",
     "text": [
      "<xarray.Dataset>\n",
      "Dimensions:     (Timestamp: 60)\n",
      "Coordinates:\n",
      "  * Timestamp   (Timestamp) datetime64[ns] 2015-06-01T00:38:01 ... 2015-06-01T23:30:25\n",
      "Data variables:\n",
      "    Spacecraft  (Timestamp) object 'A' 'A' 'A' 'A' 'A' ... 'A' 'A' 'A' 'A' 'A'\n",
      "    Confidence  (Timestamp) float64 0.9695 0.9793 0.9417 ... 0.9834 0.9809\n",
      "    RMS_misfit  (Timestamp) float64 0.5879 0.5471 0.691 ... 0.04362 0.07308\n",
      "Attributes:\n",
      "    Sources:         ['SW_OPER_AEJALPL_2F_20150601T000000_20150601T235959_0101']\n",
      "    MagneticModels:  []\n",
      "    RangeFilters:    []\n"
     ]
    }
   ],
   "source": [
    "SwarmRequest.COLLECTIONS['AEJ_LPL:Quality'] = [\n",
    "    'SW_OPER_AEJ{}LPL_2F:Quality'.format(x) for x in 'ABC'\n",
    "]\n",
    "\n",
    "SwarmRequest.PRODUCT_VARIABLES['AEJ_LPL:Quality'] = [\n",
    "    'RMS_misfit', 'Confidence',\n",
    "]\n",
    "\n",
    "request = SwarmRequest(server_url)\n",
    "request.set_collection('SW_OPER_AEJALPL_2F:Quality')\n",
    "request.set_products(\n",
    "    measurements=['RMS_misfit', 'Confidence'],\n",
    ")\n",
    "\n",
    "data = request.get_between(\n",
    "    start_time='2015-06-01T00:00:00Z',\n",
    "    end_time='2015-06-02T00:00:00Z'\n",
    ").as_xarray()\n",
    "\n",
    "print(data)"
   ]
  },
  {
   "cell_type": "markdown",
   "metadata": {},
   "source": [
    "## AEJxLPS product\n",
    "\n",
    "Avaiables Variables:\n",
    "\n",
    "| Variable | Unit | Dimension | Description | \n",
    "|---|---|---|---|\n",
    "| `Timestamp` | $-$ | scalar |UTC time of observation |\n",
    "| `Latitude` | $\\text{deg}$ | scalar | ITRF geocentric latitude |\n",
    "| `Longitude` | $\\text{deg}$ | scalar | ITRF geocentric longitude |\n",
    "| `Latitude_QD` | $\\text{deg}$ | scalar | Quasi-dipole latitude |\n",
    "| `Longitude_QD` | $\\text{deg}$ | scalar | Quasi-dipole longitude |\n",
    "| `MLT_QD` | $\\text{hour}$ | scalar | Magnetic local time (QD) |\n",
    "| `J_CF` | $\\text{A}\\ \\text{km}^{-1}$ | vector [2] | North and East component of the curl-free horizontal sheet current density vector in geocentric frame |\n",
    "| `J_DF` | $\\text{A}\\ \\text{km}^{-1}$ | vector [2] | North and East component of the divergence-free horizontal sheet current density vector in geocentric frame |\n",
    "| `J_CF_SemiQD` | $\\text{A}\\ \\text{km}^{-1}$ | scalar | North component of the curl-free horizontal sheet current density in SemiQD frame |\n",
    "| `J_DF_SemiQD` | $\\text{A}\\ \\text{km}^{-1}$ | scalar | East component of the divergence-free horizontal sheet current density in SemiQD frame |\n",
    "| `J_R` | $\\text{A}\\ \\text{km}^{-2}$ | scalar | Radial ionospheric current density at 110 km altitude in SemiQD frame |\n",
    "\n",
    "\n",
    "Note: If the standard VirES `QDLat`, `QDLat` and `MLT` auxialiary variables default to the `Latitude_QD`, `Longitude_QD`, `MLT_QD` stored in AEBS products if they cannot be calculated from the times and locations. (Locations in the AEBS products are incomplete due to the missing `Radius` and they cannot be used to calucate the magnetic coordinates.)"
   ]
  },
  {
   "cell_type": "code",
   "execution_count": 4,
   "metadata": {},
   "outputs": [
    {
     "name": "stderr",
     "output_type": "stream",
     "text": [
      "[1/1] Processing:  100%|██████████|  [ Elapsed: 00:01, Remaining: 00:00 ]\n",
      "      Downloading: 100%|██████████|  [ Elapsed: 00:00, Remaining: 00:00 ] (4.764MB)\n"
     ]
    },
    {
     "name": "stdout",
     "output_type": "stream",
     "text": [
      "<xarray.Dataset>\n",
      "Dimensions:       (J_CF_dim1: 2, J_DF_dim1: 2, Timestamp: 36862)\n",
      "Coordinates:\n",
      "  * Timestamp     (Timestamp) datetime64[ns] 2015-06-01T00:34:39 ... 2015-06-01T23:59:59\n",
      "Dimensions without coordinates: J_CF_dim1, J_DF_dim1\n",
      "Data variables:\n",
      "    Spacecraft    (Timestamp) object 'A' 'A' 'A' 'A' 'A' ... 'A' 'A' 'A' 'A' 'A'\n",
      "    J_DF          (Timestamp, J_DF_dim1) float64 -1.531 7.413 ... -5.264 25.3\n",
      "    J_CF          (Timestamp, J_CF_dim1) float64 -12.4 -2.56 ... -7.454 -1.551\n",
      "    J_CF_SemiQD   (Timestamp) float64 12.66 12.61 12.56 ... 8.053 7.782 7.614\n",
      "    Longitude_QD  (Timestamp) float64 -108.4 -108.5 -108.5 ... -102.3 -102.3\n",
      "    Latitude      (Timestamp) float64 53.91 53.97 54.03 ... 53.79 53.85 53.91\n",
      "    MLT           (Timestamp) float64 12.74 12.74 12.74 12.74 ... 12.6 12.6 12.6\n",
      "    J_DF_SemiQD   (Timestamp) float64 7.569 7.281 6.991 ... 25.7 25.81 25.84\n",
      "    Longitude     (Timestamp) float64 -172.1 -172.1 -172.1 ... -164.7 -164.6\n",
      "    J_R           (Timestamp) float64 -0.009887 -0.009887 ... -0.04155 -0.01852\n",
      "    QDLat         (Timestamp) float64 50.02 50.09 50.15 ... 50.96 51.02 51.09\n",
      "    MLT_QD        (Timestamp) float64 12.74 12.74 12.74 12.74 ... 12.6 12.6 12.6\n",
      "    Latitude_QD   (Timestamp) float64 50.02 50.09 50.15 ... 50.96 51.02 51.09\n",
      "    QDLon         (Timestamp) float64 -108.4 -108.5 -108.5 ... -102.3 -102.3\n",
      "Attributes:\n",
      "    Sources:         ['SW_OPER_AEJALPS_2F_20150601T000000_20150601T235959_0101']\n",
      "    MagneticModels:  []\n",
      "    RangeFilters:    []\n"
     ]
    }
   ],
   "source": [
    "SwarmRequest.COLLECTIONS['AEJ_LPS'] = [\n",
    "    'SW_OPER_AEJ{}LPS_2F'.format(x) for x in 'ABC'\n",
    "]\n",
    "\n",
    "SwarmRequest.PRODUCT_VARIABLES['AEJ_LPS'] = [\n",
    "    'Latitude_QD', 'Longitude_QD', 'MLT_QD',\n",
    "    'J_CF', 'J_DF', 'J_CF_SemiQD', 'J_DF_SemiQD', 'J_R',\n",
    "]\n",
    "\n",
    "request = SwarmRequest(server_url)\n",
    "request.set_collection('SW_OPER_AEJALPS_2F')\n",
    "request.set_products(\n",
    "    measurements=[\n",
    "        'Latitude_QD', 'Longitude_QD', 'MLT_QD',\n",
    "        'J_CF', 'J_DF', 'J_CF_SemiQD', 'J_DF_SemiQD', 'J_R',\n",
    "    ],\n",
    "    auxiliaries=['QDLat', 'QDLon', 'MLT'],\n",
    ")\n",
    "\n",
    "data = request.get_between(\n",
    "    start_time='2015-06-01T00:00:00Z',\n",
    "    end_time='2015-06-02T00:00:00Z'\n",
    ").as_xarray()\n",
    "\n",
    "print(data)"
   ]
  },
  {
   "cell_type": "markdown",
   "metadata": {},
   "source": [
    "## AEJxLPS product quality\n",
    "\n",
    "The AEJxLPS quality information is accessible as a separate dataset.\n",
    "\n",
    "Avaiables Variables:\n",
    "\n",
    "| Variable | Unit | Dimension | Description | \n",
    "|---|---|---|---|\n",
    "| `Timestamp` | $-$ | scalar | UTC timestamp of the quality record |\n",
    "| `RMS_misfit` | $\\text{nT}$ | scalar | Root Mean Square error misfit between observations and model values for the oval crossing |\n",
    "| `Confidence` | $-$ | scalar | Goodness of fit computed as 1 - (residual rms / signal rms) for the oval crossing |\n"
   ]
  },
  {
   "cell_type": "code",
   "execution_count": 5,
   "metadata": {},
   "outputs": [
    {
     "name": "stderr",
     "output_type": "stream",
     "text": [
      "[1/1] Processing:  100%|██████████|  [ Elapsed: 00:01, Remaining: 00:00 ]\n",
      "      Downloading: 100%|██████████|  [ Elapsed: 00:00, Remaining: 00:00 ] (0.037MB)\n"
     ]
    },
    {
     "name": "stdout",
     "output_type": "stream",
     "text": [
      "<xarray.Dataset>\n",
      "Dimensions:     (Timestamp: 61)\n",
      "Coordinates:\n",
      "  * Timestamp   (Timestamp) datetime64[ns] 2015-06-01T00:34:39 ... 2015-06-01T23:59:42\n",
      "Data variables:\n",
      "    Spacecraft  (Timestamp) object 'A' 'A' 'A' 'A' 'A' ... 'A' 'A' 'A' 'A' 'A'\n",
      "    Confidence  (Timestamp) float64 0.8908 0.911 0.7526 ... 0.7863 0.3651 0.9071\n",
      "    RMS_misfit  (Timestamp) float64 2.298 4.103 2.858 3.35 ... 0.4935 1.32 2.046\n",
      "Attributes:\n",
      "    Sources:         ['SW_OPER_AEJALPS_2F_20150601T000000_20150601T235959_0101']\n",
      "    MagneticModels:  []\n",
      "    RangeFilters:    []\n"
     ]
    }
   ],
   "source": [
    "SwarmRequest.COLLECTIONS['AEJ_LPS:Quality'] = [\n",
    "    'SW_OPER_AEJ{}LPS_2F:Quality'.format(x) for x in 'ABC'\n",
    "]\n",
    "\n",
    "SwarmRequest.PRODUCT_VARIABLES['AEJ_LPS:Quality'] = [\n",
    "    'RMS_misfit', 'Confidence',\n",
    "]\n",
    "\n",
    "request = SwarmRequest(server_url)\n",
    "request.set_collection('SW_OPER_AEJALPS_2F:Quality')\n",
    "request.set_products(\n",
    "    measurements=['RMS_misfit', 'Confidence'],\n",
    ")\n",
    "\n",
    "data = request.get_between(\n",
    "    start_time='2015-06-01T00:00:00Z',\n",
    "    end_time='2015-06-02T00:00:00Z'\n",
    ").as_xarray()\n",
    "\n",
    "print(data)"
   ]
  },
  {
   "cell_type": "markdown",
   "metadata": {},
   "source": [
    "## AEJxPBL product\n",
    "\n",
    "Avaiables Variables:\n",
    "\n",
    "| Variable | Unit | Dimension | Description | \n",
    "|---|---|---|---|\n",
    "| `Timestamp` | $-$ | scalar |UTC time of observation |\n",
    "| `Latitude` | $\\text{deg}$ | scalar | ITRF geocentric latitude |\n",
    "| `Longitude` | $\\text{deg}$ | scalar | ITRF geocentric longitude |\n",
    "| `Latitude_QD` | $\\text{deg}$ | scalar | Quasi-dipole latitude |\n",
    "| `Longitude_QD` | $\\text{deg}$ | scalar | Quasi-dipole longitude |\n",
    "| `MLT_QD` | $\\text{hour}$ | scalar | Magnetic local time (QD) |\n",
    "| `J_QD` | $\\text{A}\\ \\text{km}^{-1}$ | scalar | Peak eastward sheet current intensity in QD frame |\n",
    "| `Flags` | $-$ | scalar | Quality indicator (for more details of the binary flags see the product specification) |\n",
    "| `PointType` | $-$ | scalar | Point type (see the details below) |\n",
    "\n",
    "`J_QD` variable is set to `NaN` for boundaries.\n",
    "\n",
    "`Latitude`, `Longitude`, `Latitude_QD`, `Longitude_QD`, `MLT_QD`, and `J_QD` are set to `NaN` if the EJ boubdaries have not been detected (also see the `Flags` specification).\n",
    "\n",
    "\n",
    "Use the `PointType` variable to determine the type of the samples. The meaning of the bit flags is as follows:\n",
    "\n",
    "| Bit No. | False (0) | True (1) | Note\n",
    "|---|---|---|---|\n",
    "| bit 0 (1) | WEJ | EEJ |\n",
    "| bit 1 (2) | Peak | Boundary |\n",
    "| bit 2 (4) | Equatorial boundary | Polar boundary | only if bit 1 set\n",
    "| bit 3 (8) | Boundary pair start | Boundary pair end | only if bit 1 set\n",
    "\n",
    "These are the possible `PointType` values:\n",
    "\n",
    "| Value  | Hex. | Bin. | Meaning |\n",
    "|---|---|---|---|\n",
    "| 0 | 0x0 | 0b0000 | WEJ peak (minimum) |\n",
    "| 1 | 0x1 | 0b0001 | EEJ peak (maximum) |\n",
    "| 2 | 0x2 | 0b0010 | WEJ equatorial boundary (pair start) |\n",
    "| 3 | 0x3 | 0b0011 | EEJ equatorial boundary (pair start) |\n",
    "| 6 | 0x6 | 0b0110 | WEJ polar boundary (pair start) |\n",
    "| 7 | 0x7 | 0b0111 | EEJ polar boundary (pair start) |\n",
    "| 10 | 0xA | 0b1010 | WEJ equatorial boundary (pair end) |\n",
    "| 11 | 0xB | 0b1011 | EEJ equatorial boundary (pair end) |\n",
    "| 14 | 0xE | 0b1110 | WEJ polar boundary (pair end) |\n",
    "| 15 | 0xF | 0b1111 | EEJ polar boundary (pair end) |\n",
    "\n",
    "Note: If the standard VirES `QDLat`, `QDLat` and `MLT` auxialiary variables default to the `Latitude_QD`, `Longitude_QD`, `MLT_QD` stored in AEBS products if they cannot be calculated from the times and locations. (Locations in the AEBS products are incomplete due to the missing `Radius` and they cannot be used to calucate the magnetic coordinates.)"
   ]
  },
  {
   "cell_type": "code",
   "execution_count": 6,
   "metadata": {},
   "outputs": [
    {
     "name": "stderr",
     "output_type": "stream",
     "text": [
      "[1/1] Processing:  100%|██████████|  [ Elapsed: 00:01, Remaining: 00:00 ]\n",
      "      Downloading: 100%|██████████|  [ Elapsed: 00:00, Remaining: 00:00 ] (0.115MB)\n"
     ]
    },
    {
     "name": "stdout",
     "output_type": "stream",
     "text": [
      "<xarray.Dataset>\n",
      "Dimensions:       (Timestamp: 366)\n",
      "Coordinates:\n",
      "  * Timestamp     (Timestamp) datetime64[ns] 2015-06-01T00:02:07.298531294 ... 2015-06-01T23:33:41.800961018\n",
      "Data variables:\n",
      "    Spacecraft    (Timestamp) object 'A' 'A' 'A' 'A' 'A' ... 'A' 'A' 'A' 'A' 'A'\n",
      "    J_QD          (Timestamp) float64 nan 65.0 nan nan ... nan -20.47 nan nan\n",
      "    MLT           (Timestamp) float64 15.95 15.51 15.15 ... 14.05 nan 13.93\n",
      "    Longitude_QD  (Timestamp) float64 -52.56 -59.43 -64.89 ... -74.03 nan -76.03\n",
      "    Latitude      (Timestamp) float64 -72.2 -69.33 -66.45 ... -51.34 nan -48.34\n",
      "    Longitude     (Timestamp) float64 -176.0 -174.9 -174.2 ... -165.0 nan -164.9\n",
      "    QDLat         (Timestamp) float64 -73.62 -71.39 -68.96 ... -53.14 nan -50.22\n",
      "    PointType     (Timestamp) uint16 7 1 11 6 0 10 2 0 ... 14 15 6 3 1 0 15 10\n",
      "    MLT_QD        (Timestamp) float64 15.95 15.51 15.15 ... 14.05 nan 13.93\n",
      "    Latitude_QD   (Timestamp) float64 -73.62 -71.39 -68.96 ... -53.14 nan -50.22\n",
      "    QDLon         (Timestamp) float64 -52.56 -59.43 -64.89 ... -74.03 nan -76.03\n",
      "    Flags         (Timestamp) uint8 80 80 80 80 80 80 ... 113 113 113 113 113\n",
      "Attributes:\n",
      "    Sources:         ['SW_OPER_AEJAPBL_2F_20150101T000000_20151231T235959_0101']\n",
      "    MagneticModels:  []\n",
      "    RangeFilters:    []\n"
     ]
    }
   ],
   "source": [
    "SwarmRequest.COLLECTIONS['AEJ_PBL'] = [\n",
    "    'SW_OPER_AEJ{}PBL_2F'.format(x) for x in 'ABC'\n",
    "]\n",
    "\n",
    "SwarmRequest.PRODUCT_VARIABLES['AEJ_PBL'] = [\n",
    "    'Latitude_QD', 'Longitude_QD', 'MLT_QD',\n",
    "    'J_QD', 'Flags', 'PointType',\n",
    "]\n",
    "\n",
    "request = SwarmRequest(server_url)\n",
    "request.set_collection('SW_OPER_AEJAPBL_2F')\n",
    "request.set_products(\n",
    "    measurements=[\n",
    "        'Latitude_QD', 'Longitude_QD', 'MLT_QD',\n",
    "         'J_QD', 'Flags', 'PointType',\n",
    "    ],\n",
    "    auxiliaries=['QDLat', 'QDLon', 'MLT'],\n",
    ")\n",
    "\n",
    "data = request.get_between(\n",
    "    start_time='2015-06-01T00:00:00Z',\n",
    "    end_time='2015-06-02T00:00:00Z'\n",
    ").as_xarray()\n",
    "\n",
    "print(data)"
   ]
  },
  {
   "cell_type": "markdown",
   "metadata": {},
   "source": [
    "## AEJxPBS product\n",
    "\n",
    "Avaiables Variables:\n",
    "\n",
    "| Variable | Unit | Dimension | Description | \n",
    "|---|---|---|---|\n",
    "| `Timestamp` | $-$ | scalar |UTC time of observation |\n",
    "| `Latitude` | $\\text{deg}$ | scalar | ITRF geocentric latitude |\n",
    "| `Longitude` | $\\text{deg}$ | scalar | ITRF geocentric longitude |\n",
    "| `Latitude_QD` | $\\text{deg}$ | scalar | Quasi-dipole latitude |\n",
    "| `Longitude_QD` | $\\text{deg}$ | scalar | Quasi-dipole longitude |\n",
    "| `MLT_QD` | $\\text{hour}$ | scalar | Magnetic local time (QD) |\n",
    "| `J_DF_SemiQD` | $\\text{A}\\ \\text{km}^{-1}$ | scalar | Peak eastward sheet current intensity in QD frame |\n",
    "| `Flags` | $-$ | scalar | Quality indicator (for more details of the binary flags see the product specification) |\n",
    "| `PointType` | $-$ | scalar | Point type (see the details below) |\n",
    "\n",
    "`J_DF_SemiQD` variable is set to `NaN` for boundaries.\n",
    "\n",
    "`Latitude`, `Longitude`, `Latitude_QD`, `Longitude_QD`, `MLT_QD`, and `J_DF_SemiQD` are set to `NaN` if the EJ boubdaries have not been detected (also see the `Flags` specification).\n",
    "\n",
    "Use the `PointType` variable to determine the type of the samples. The meaning of the bit flags is as follows:\n",
    "\n",
    "| Bit No. | False (0) | True (1) | Note\n",
    "|---|---|---|---|\n",
    "| bit 0 (1) | WEJ | EEJ |\n",
    "| bit 1 (2) | Peak | Boundary |\n",
    "| bit 2 (4) | Equatorial boundary | Polar boundary | only if bit 1 set\n",
    "| bit 3 (8) | Boundary pair start | Boundary pair end | only if bit 1 set\n",
    "\n",
    "These are the possible `PointType` values:\n",
    "\n",
    "| Value  | Hex. | Bin. | Meaning |\n",
    "|---|---|---|---|\n",
    "| 0 | 0x0 | 0b0000 | WEJ peak (minimum) |\n",
    "| 1 | 0x1 | 0b0001 | EEJ peak (maximum) |\n",
    "| 2 | 0x2 | 0b0010 | WEJ equatorial boundary (pair start) |\n",
    "| 3 | 0x3 | 0b0011 | EEJ equatorial boundary (pair start) |\n",
    "| 6 | 0x6 | 0b0110 | WEJ polar boundary (pair start) |\n",
    "| 7 | 0x7 | 0b0111 | EEJ polar boundary (pair start) |\n",
    "| 10 | 0xA | 0b1010 | WEJ equatorial boundary (pair end) |\n",
    "| 11 | 0xB | 0b1011 | EEJ equatorial boundary (pair end) |\n",
    "| 14 | 0xE | 0b1110 | WEJ polar boundary (pair end) |\n",
    "| 15 | 0xF | 0b1111 | EEJ polar boundary (pair end) |\n",
    "\n",
    "Note: If the standard VirES `QDLat`, `QDLat` and `MLT` auxialiary variables default to the `Latitude_QD`, `Longitude_QD`, `MLT_QD` stored in AEBS products if they cannot be calculated from the times and locations. (Locations in the AEBS products are incomplete due to the missing `Radius` and they cannot be used to calucate the magnetic coordinates.)"
   ]
  },
  {
   "cell_type": "code",
   "execution_count": 7,
   "metadata": {},
   "outputs": [
    {
     "name": "stderr",
     "output_type": "stream",
     "text": [
      "[1/1] Processing:  100%|██████████|  [ Elapsed: 00:01, Remaining: 00:00 ]\n",
      "      Downloading: 100%|██████████|  [ Elapsed: 00:00, Remaining: 00:00 ] (0.115MB)\n"
     ]
    },
    {
     "name": "stdout",
     "output_type": "stream",
     "text": [
      "<xarray.Dataset>\n",
      "Dimensions:       (Timestamp: 364)\n",
      "Coordinates:\n",
      "  * Timestamp     (Timestamp) datetime64[ns] 2015-06-01T00:01:32 ... 2015-06-01T23:34:07\n",
      "Data variables:\n",
      "    Spacecraft    (Timestamp) object 'A' 'A' 'A' 'A' 'A' ... 'A' 'A' 'A' 'A' 'A'\n",
      "    MLT           (Timestamp) float64 16.38 16.38 15.57 ... 14.37 14.05 13.87\n",
      "    Longitude_QD  (Timestamp) float64 -45.97 -45.97 -58.46 ... -73.9 -76.97\n",
      "    Latitude      (Timestamp) float64 -74.35 -74.35 -69.9 ... -52.45 -47.95\n",
      "    J_DF_SemiQD   (Timestamp) float64 nan nan 96.41 nan ... nan nan -7.49 nan\n",
      "    Longitude     (Timestamp) float64 -179.0 -179.0 -176.6 ... -166.0 -165.7\n",
      "    QDLat         (Timestamp) float64 -75.57 -75.57 -72.24 ... -54.38 -49.98\n",
      "    PointType     (Timestamp) uint16 10 7 1 11 3 1 15 2 0 ... 0 14 7 1 11 6 0 10\n",
      "    MLT_QD        (Timestamp) float64 16.38 16.38 15.57 ... 14.37 14.05 13.87\n",
      "    Latitude_QD   (Timestamp) float64 -75.57 -75.57 -72.24 ... -54.38 -49.98\n",
      "    QDLon         (Timestamp) float64 -45.97 -45.97 -58.46 ... -73.9 -76.97\n",
      "    Flags         (Timestamp) uint8 96 96 96 96 32 32 32 ... 72 72 72 72 72 72\n",
      "Attributes:\n",
      "    Sources:         ['SW_OPER_AEJAPBS_2F_20150101T000000_20151231T235959_0101']\n",
      "    MagneticModels:  []\n",
      "    RangeFilters:    []\n"
     ]
    }
   ],
   "source": [
    "SwarmRequest.COLLECTIONS['AEJ_PBS'] = [\n",
    "    'SW_OPER_AEJ{}PBS_2F'.format(x) for x in 'ABC'\n",
    "]\n",
    "\n",
    "SwarmRequest.PRODUCT_VARIABLES['AEJ_PBS'] = [\n",
    "    'Latitude_QD', 'Longitude_QD', 'MLT_QD',\n",
    "    'J_DF_SemiQD', 'Flags', 'PointType',\n",
    "]\n",
    "\n",
    "request = SwarmRequest(server_url)\n",
    "request.set_collection('SW_OPER_AEJAPBS_2F')\n",
    "request.set_products(\n",
    "    measurements=[\n",
    "        'Latitude_QD', 'Longitude_QD', 'MLT_QD',\n",
    "         'J_DF_SemiQD', 'Flags', 'PointType',\n",
    "    ],\n",
    "    auxiliaries=['QDLat', 'QDLon', 'MLT'],\n",
    ")\n",
    "\n",
    "data = request.get_between(\n",
    "    start_time='2015-06-01T00:00:00Z',\n",
    "    end_time='2015-06-02T00:00:00Z'\n",
    ").as_xarray()\n",
    "\n",
    "print(data)"
   ]
  },
  {
   "cell_type": "markdown",
   "metadata": {},
   "source": [
    "## AEJxPBS product - Ground magnetic disturbance\n",
    "\n",
    "The AEJxPBS ground magnetic disturbance is avaialble as a separate dataset.\n",
    "\n",
    "Avaiables Variables:\n",
    "\n",
    "| Variable | Unit | Dimension | Description | \n",
    "|---|---|---|---|\n",
    "| `Timestamp` | $-$ | scalar | UTC timestamp  |\n",
    "| `Latitude` | $\\text{deg}$ | scalar | **Geodetic** latitude |\n",
    "| `Longitude` | $\\text{deg}$ | scalar | **Geodetic** longitude |\n",
    "| `B` | $\\text{nT}$ | vector [2] | Peak value of the horizontal ground magnetic disturbance in the **geodetic** NE frame |\n",
    "\n",
    "Due to the incomple coordinates (no elevation) the geodetic coordinates cannot be converted to ITRF geocentric ones."
   ]
  },
  {
   "cell_type": "code",
   "execution_count": 8,
   "metadata": {},
   "outputs": [
    {
     "name": "stderr",
     "output_type": "stream",
     "text": [
      "[1/1] Processing:  100%|██████████|  [ Elapsed: 00:01, Remaining: 00:00 ]\n",
      "      Downloading: 100%|██████████|  [ Elapsed: 00:00, Remaining: 00:00 ] (0.046MB)\n"
     ]
    },
    {
     "name": "stdout",
     "output_type": "stream",
     "text": [
      "<xarray.Dataset>\n",
      "Dimensions:     (B_dim1: 2, Timestamp: 121)\n",
      "Coordinates:\n",
      "  * Timestamp   (Timestamp) datetime64[ns] 2015-06-01T00:02:46 ... 2015-06-01T23:32:53\n",
      "Dimensions without coordinates: B_dim1\n",
      "Data variables:\n",
      "    Spacecraft  (Timestamp) object 'A' 'A' 'A' 'A' 'A' ... 'A' 'A' 'A' 'A' 'A'\n",
      "    B           (Timestamp, B_dim1) float64 29.78 -63.87 ... -0.2697 -3.117\n",
      "    Latitude    (Timestamp) float64 -82.66 85.2 79.07 ... -72.74 -52.89 -80.83\n",
      "    Longitude   (Timestamp) float64 165.7 -144.9 -163.9 ... 34.37 -166.3 178.3\n",
      "Attributes:\n",
      "    Sources:         ['SW_OPER_AEJAPBS_2F_20150101T000000_20151231T235959_0101']\n",
      "    MagneticModels:  []\n",
      "    RangeFilters:    []\n"
     ]
    }
   ],
   "source": [
    "SwarmRequest.COLLECTIONS['AEJ_PBS:GroundMagneticDisturbance'] = [\n",
    "    'SW_OPER_AEJ{}PBS_2F:GroundMagneticDisturbance'.format(x) for x in 'ABC'\n",
    "]\n",
    "\n",
    "SwarmRequest.PRODUCT_VARIABLES['AEJ_PBS:GroundMagneticDisturbance'] = ['B']\n",
    "\n",
    "request = SwarmRequest(server_url)\n",
    "request.set_collection('SW_OPER_AEJAPBS_2F:GroundMagneticDisturbance')\n",
    "request.set_products(\n",
    "    measurements=['B'],\n",
    ")\n",
    "\n",
    "data = request.get_between(\n",
    "    start_time='2015-06-01T00:00:00Z',\n",
    "    end_time='2015-06-02T00:00:00Z'\n",
    ").as_xarray()\n",
    "\n",
    "print(data)"
   ]
  },
  {
   "cell_type": "markdown",
   "metadata": {},
   "source": [
    "## AOBxFAC product\n",
    "\n",
    "Avaiables Variables:\n",
    "\n",
    "| Variable | Unit | Dimension | Description | \n",
    "|---|---|---|---|\n",
    "| `Timestamp` | $-$ | scalar |UTC time of observation |\n",
    "| `Latitude` | $\\text{deg}$ | scalar | ITRF geocentric latitude |\n",
    "| `Longitude` | $\\text{deg}$ | scalar | ITRF geocentric longitude |\n",
    "| `Latitude_QD` | $\\text{deg}$ | scalar | Quasi-dipole latitude |\n",
    "| `Longitude_QD` | $\\text{deg}$ | scalar | Quasi-dipole longitude |\n",
    "| `MLT_QD` | $\\text{hour}$ | scalar | Magnetic local time (QD) |\n",
    "| `Boundary_Flag` | $-$ | scalar | Indicator for equatorward (1) or poleward (2) boundary |\n",
    "| `Pair_Indicator` | $-$ | scalar | Quality indicator (for more details of the binary flags see the product specification) |\n",
    "| `Quality` | $-$ | vector [2] | Quality indicator of equatorward/poleward boundary (Pa, Sigma) |\n",
    "\n",
    "Note: If the standard VirES `QDLat`, `QDLat` and `MLT` auxialiary variables default to the `Latitude_QD`, `Longitude_QD`, `MLT_QD` stored in AEBS products if they cannot be calculated from the times and locations. (Locations in the AEBS products are incomplete due to the missing `Radius` and they cannot be used to calucate the magnetic coordinates.)"
   ]
  },
  {
   "cell_type": "code",
   "execution_count": 9,
   "metadata": {},
   "outputs": [
    {
     "name": "stderr",
     "output_type": "stream",
     "text": [
      "[1/1] Processing:  100%|██████████|  [ Elapsed: 00:01, Remaining: 00:00 ]\n",
      "      Downloading: 100%|██████████|  [ Elapsed: 00:00, Remaining: 00:00 ] (0.115MB)\n"
     ]
    },
    {
     "name": "stdout",
     "output_type": "stream",
     "text": [
      "<xarray.Dataset>\n",
      "Dimensions:         (Quality_dim1: 2, Timestamp: 100)\n",
      "Coordinates:\n",
      "  * Timestamp       (Timestamp) datetime64[ns] 2015-06-01T00:02:10.500000 ... 2015-06-01T23:26:28.500000\n",
      "Dimensions without coordinates: Quality_dim1\n",
      "Data variables:\n",
      "    Spacecraft      (Timestamp) object 'A' 'A' 'A' 'A' 'A' ... 'A' 'A' 'A' 'A'\n",
      "    MLT             (Timestamp) float64 15.92 15.49 12.34 ... 1.213 22.87 16.36\n",
      "    Longitude_QD    (Timestamp) float64 -73.38 -76.59 -122.9 ... 71.06 -61.94\n",
      "    Latitude        (Timestamp) float64 -72.0 -69.22 72.77 ... -73.38 -75.84\n",
      "    Radius          (Timestamp) float64 6.839e+06 6.839e+06 ... 6.839e+06\n",
      "    Quality         (Timestamp, Quality_dim1) float64 1.2 0.2778 ... 0.2382\n",
      "    Longitude       (Timestamp) float64 -175.9 -174.9 -168.6 ... 30.8 -170.7\n",
      "    QDLat           (Timestamp) float64 -73.46 -71.29 70.4 ... -68.2 -74.43\n",
      "    MLT_QD          (Timestamp) float64 14.57 14.36 11.87 ... 2.046 23.49 14.75\n",
      "    Latitude_QD     (Timestamp) float64 -71.71 -69.12 69.45 ... -72.89 -74.08\n",
      "    QDLon           (Timestamp) float64 -53.06 -59.62 -115.8 ... 61.78 -37.83\n",
      "    Pair_Indicator  (Timestamp) int8 1 -1 1 -1 1 -1 1 -1 1 ... 1 -1 0 0 1 -1 0 0\n",
      "Attributes:\n",
      "    Sources:         ['SW_OPER_AOBAFAC_2F_20150101T000000_20151231T235959_0101']\n",
      "    MagneticModels:  []\n",
      "    RangeFilters:    []\n"
     ]
    }
   ],
   "source": [
    "# mandatory product definition - not yet available via the client\n",
    "\n",
    "SwarmRequest.COLLECTIONS['AOB_FAC'] = [\n",
    "    'SW_OPER_AOB{}FAC_2F'.format(x) for x in 'ABC'\n",
    "]\n",
    "\n",
    "SwarmRequest.PRODUCT_VARIABLES['AOB_FAC'] = [\n",
    "    'Latitude_QD', 'Longitude_QD', 'MLT_QD',\n",
    "    'Boundary_Flag', 'Quality', 'Pair_Indicator',\n",
    "]\n",
    "\n",
    "request = SwarmRequest(server_url)\n",
    "request.set_collection('SW_OPER_AOBAFAC_2F')\n",
    "request.set_products(  \n",
    "    measurements=[\n",
    "        'Latitude_QD', 'Longitude_QD', 'MLT_QD',\n",
    "        'Quality', 'Pair_Indicator',\n",
    "    ],\n",
    "    auxiliaries=['QDLat', 'QDLon', 'MLT'],\n",
    ")\n",
    "\n",
    "data = request.get_between(\n",
    "    start_time='2015-06-01T00:00:00Z',\n",
    "    end_time='2015-06-02T00:00:00Z'\n",
    ").as_xarray()\n",
    "\n",
    "print(data)"
   ]
  }
 ],
 "metadata": {
  "kernelspec": {
   "display_name": "Python 3",
   "language": "python",
   "name": "python3"
  },
  "language_info": {
   "codemirror_mode": {
    "name": "ipython",
    "version": 3
   },
   "file_extension": ".py",
   "mimetype": "text/x-python",
   "name": "python",
   "nbconvert_exporter": "python",
   "pygments_lexer": "ipython3",
   "version": "3.7.6"
  }
 },
 "nbformat": 4,
 "nbformat_minor": 4
}
