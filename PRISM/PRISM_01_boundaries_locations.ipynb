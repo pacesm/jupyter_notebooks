{
 "cells": [
  {
   "cell_type": "markdown",
   "id": "62b53cfa-59f2-44ac-93d6-dc10c75ee4c1",
   "metadata": {},
   "source": [
    "# PRISM products in VirES - visualization of subauroral boundaries\n",
    "\n",
    "This notebook demonstrates of the subaroral boundaries from the `MITx_LP_2F`, `MITxTEC_2F` and `PPIxFAC_2F` Swarm products retrieved by means of the vires client.\n"
   ]
  },
  {
   "cell_type": "code",
   "execution_count": 2,
   "id": "85981ae6-3803-4011-99dc-4fbb91246e6e",
   "metadata": {},
   "outputs": [],
   "source": [
    "from viresclient import SwarmRequest\n",
    "\n",
    "SERVER_URL = \"https://vires.services/ows\"\n"
   ]
  },
  {
   "cell_type": "code",
   "execution_count": 10,
   "id": "217f7988-9eb2-49b7-9835-633fcf422279",
   "metadata": {},
   "outputs": [
    {
     "data": {
      "application/vnd.jupyter.widget-view+json": {
       "model_id": "d84dbbeffa32495680c0f1dff475846c",
       "version_major": 2,
       "version_minor": 0
      },
      "text/plain": [
       "Processing:    0%|          |  [ Elapsed: 00:00, Remaining: ? ] [1/1] "
      ]
     },
     "metadata": {},
     "output_type": "display_data"
    },
    {
     "data": {
      "application/vnd.jupyter.widget-view+json": {
       "model_id": "e40a3d4878e64197ab369c3df4ab3018",
       "version_major": 2,
       "version_minor": 0
      },
      "text/plain": [
       "Downloading:   0%|          |  [ Elapsed: 00:00, Remaining: ? ] (14.78MB)"
      ]
     },
     "metadata": {},
     "output_type": "display_data"
    },
    {
     "name": "stdout",
     "output_type": "stream",
     "text": [
      "<xarray.Dataset>\n",
      "Dimensions:     (Timestamp: 259200)\n",
      "Coordinates:\n",
      "  * Timestamp   (Timestamp) datetime64[ns] 2015-12-30 ... 2016-01-01T23:59:59\n",
      "Data variables:\n",
      "    Spacecraft  (Timestamp) object 'A' 'A' 'A' 'A' 'A' ... 'A' 'A' 'A' 'A' 'A'\n",
      "    Radius      (Timestamp) float64 6.832e+06 6.832e+06 ... 6.823e+06 6.823e+06\n",
      "    QDLat       (Timestamp) float64 -15.46 -15.4 -15.34 ... 41.25 41.31 41.38\n",
      "    Longitude   (Timestamp) float64 -94.26 -94.26 -94.26 ... -95.37 -95.37\n",
      "    MLT         (Timestamp) float64 17.57 17.57 17.57 ... 17.16 17.16 17.16\n",
      "    Latitude    (Timestamp) float64 -25.88 -25.81 -25.75 ... 31.55 31.61 31.67\n",
      "    Kp          (Timestamp) float64 2.3 0.0 0.0 0.0 0.0 ... 1.7 1.7 1.7 1.7 1.7\n",
      "Attributes:\n",
      "    Sources:         ['SW_OPER_AUX_KP__2__19980101T013000_20220407T193000_000...\n",
      "    MagneticModels:  []\n",
      "    RangeFilters:    []\n"
     ]
    },
    {
     "data": {
      "application/vnd.jupyter.widget-view+json": {
       "model_id": "59f293c5ea4a4c92aa7059d20b8d4c31",
       "version_major": 2,
       "version_minor": 0
      },
      "text/plain": [
       "Downloading:   0%|          |  [ Elapsed: 00:00, Remaining: ? ] (0.063MB)"
      ]
     },
     "metadata": {},
     "output_type": "display_data"
    },
    {
     "name": "stdout",
     "output_type": "stream",
     "text": [
      "<xarray.Dataset>\n",
      "Dimensions:     (Timestamp: 68)\n",
      "Coordinates:\n",
      "  * Timestamp   (Timestamp) datetime64[ns] 2015-12-30T00:37:35.196999936 ... ...\n",
      "Data variables:\n",
      "    Spacecraft  (Timestamp) object 'A' 'A' 'A' 'A' 'A' ... 'A' 'A' 'A' 'A' 'A'\n",
      "    Radius      (Timestamp) float64 6.818e+06 6.818e+06 ... 6.818e+06 6.818e+06\n",
      "    QDLat       (Timestamp) float64 57.14 58.0 66.07 59.68 ... 64.2 49.69 53.02\n",
      "    Longitude   (Timestamp) float64 72.8 49.22 -140.3 ... -23.28 143.5 96.42\n",
      "    Latitude    (Timestamp) float64 61.01 61.7 64.41 63.0 ... 63.66 55.69 57.22\n",
      "    MLT         (Timestamp) float64 5.29 5.412 16.82 5.692 ... 18.67 5.005 5.026\n",
      "Attributes:\n",
      "    Sources:         ['SW_OPER_MITA_LP_2F_20150101T000000_20151231T235959_010...\n",
      "    MagneticModels:  []\n",
      "    RangeFilters:    []\n"
     ]
    },
    {
     "data": {
      "application/vnd.jupyter.widget-view+json": {
       "model_id": "1579bbefdc784238938015989f2a3b5b",
       "version_major": 2,
       "version_minor": 0
      },
      "text/plain": [
       "Downloading:   0%|          |  [ Elapsed: 00:00, Remaining: ? ] (0.072MB)"
      ]
     },
     "metadata": {},
     "output_type": "display_data"
    },
    {
     "name": "stdout",
     "output_type": "stream",
     "text": [
      "<xarray.Dataset>\n",
      "Dimensions:     (Timestamp: 46)\n",
      "Coordinates:\n",
      "  * Timestamp   (Timestamp) datetime64[ns] 2015-12-30T00:37:41.196999936 ... ...\n",
      "Data variables:\n",
      "    Spacecraft  (Timestamp) object 'A' 'A' 'A' 'A' 'A' ... 'A' 'A' 'A' 'A' 'A'\n",
      "    Radius      (Timestamp) float64 6.818e+06 6.818e+06 ... 6.818e+06 6.818e+06\n",
      "    QDLat       (Timestamp) float64 56.76 57.55 58.57 ... 56.88 56.46 49.63\n",
      "    Longitude   (Timestamp) float64 72.85 49.28 25.7 2.2 ... -169.9 166.4 143.5\n",
      "    Latitude    (Timestamp) float64 60.63 61.26 61.94 62.09 ... 60.06 61.7 55.63\n",
      "    PointType   (Timestamp) uint8 6 6 6 6 6 6 6 6 6 6 6 ... 6 6 6 6 6 6 6 6 6 6\n",
      "    MLT         (Timestamp) float64 5.292 5.41 5.677 6.063 ... 4.45 4.645 5.006\n",
      "Attributes:\n",
      "    Sources:         ['SW_OPER_MITA_LP_2F_20150101T000000_20151231T235959_010...\n",
      "    MagneticModels:  []\n",
      "    RangeFilters:    ['PointType:6,6']\n"
     ]
    },
    {
     "data": {
      "application/vnd.jupyter.widget-view+json": {
       "model_id": "dc8a9f29a33445aebf02ae8adf5fd151",
       "version_major": 2,
       "version_minor": 0
      },
      "text/plain": [
       "Downloading:   0%|          |  [ Elapsed: 00:00, Remaining: ? ] (0.063MB)"
      ]
     },
     "metadata": {},
     "output_type": "display_data"
    },
    {
     "name": "stdout",
     "output_type": "stream",
     "text": [
      "<xarray.Dataset>\n",
      "Dimensions:     (Timestamp: 39)\n",
      "Coordinates:\n",
      "  * Timestamp   (Timestamp) datetime64[ns] 2015-12-30T03:42:15 ... 2016-01-01...\n",
      "Data variables:\n",
      "    Spacecraft  (Timestamp) object 'A' 'A' 'A' 'A' 'A' ... 'A' 'A' 'A' 'A' 'A'\n",
      "    Radius      (Timestamp) float64 6.817e+06 6.817e+06 ... 6.818e+06 6.817e+06\n",
      "    QDLat       (Timestamp) float64 67.61 67.48 67.74 ... 57.92 58.67 58.04\n",
      "    Longitude   (Timestamp) float64 23.69 0.7023 151.7 ... 164.5 141.2 119.2\n",
      "    Latitude    (Timestamp) float64 70.64 69.12 72.71 ... 63.13 64.15 62.94\n",
      "    MLT         (Timestamp) float64 5.85 6.249 17.98 18.36 ... 17.61 18.0 4.948\n",
      "Attributes:\n",
      "    Sources:         ['SW_OPER_MITATEC_2F_20150101T000000_20151231T235959_010...\n",
      "    MagneticModels:  []\n",
      "    RangeFilters:    []\n"
     ]
    },
    {
     "data": {
      "application/vnd.jupyter.widget-view+json": {
       "model_id": "5b3244ff3ff64191bdebc03b192a5b07",
       "version_major": 2,
       "version_minor": 0
      },
      "text/plain": [
       "Downloading:   0%|          |  [ Elapsed: 00:00, Remaining: ? ] (0.063MB)"
      ]
     },
     "metadata": {},
     "output_type": "display_data"
    },
    {
     "name": "stdout",
     "output_type": "stream",
     "text": [
      "<xarray.Dataset>\n",
      "Dimensions:     (Timestamp: 144)\n",
      "Coordinates:\n",
      "  * Timestamp   (Timestamp) datetime64[ns] 2015-12-30T00:18:40.500000 ... 201...\n",
      "Data variables:\n",
      "    Spacecraft  (Timestamp) object 'A' 'A' 'A' 'A' 'A' ... 'A' 'A' 'A' 'A' 'A'\n",
      "    Radius      (Timestamp) float64 6.82e+06 6.819e+06 ... 6.817e+06 6.817e+06\n",
      "    QDLat       (Timestamp) float64 55.39 63.47 59.65 ... 63.77 67.42 60.38\n",
      "    Longitude   (Timestamp) float64 -94.91 -94.5 -118.0 ... -71.22 93.33 95.42\n",
      "    Latitude    (Timestamp) float64 45.9 54.3 53.64 59.97 ... 55.43 71.98 64.65\n",
      "    MLT         (Timestamp) float64 17.49 17.51 17.03 ... 17.99 4.786 4.935\n",
      "Attributes:\n",
      "    Sources:         ['SW_OPER_PPIAFAC_2F_20150101T000000_20151231T235959_010...\n",
      "    MagneticModels:  []\n",
      "    RangeFilters:    []\n"
     ]
    }
   ],
   "source": [
    "SPACECRAFT = 'A'\n",
    "START_TIME = \"2015-12-30T00:00:00Z\"\n",
    "END_TIME = \"2016-01-02T00:00:00Z\"\n",
    "MIT_LP_TE_PEAK = 0x6\n",
    "\n",
    "def _insert(list_, value):\n",
    "    if value not in list_:\n",
    "        list_.apped(value)\n",
    "\n",
    "request = SwarmRequest(SERVER_URL)\n",
    "request.set_collection(f\"SW_OPER_MOD{SPACECRAFT}_SC_1B\")\n",
    "request.set_products(\n",
    "    measurements=[],\n",
    "    auxiliaries=['QDLat', 'MLT', 'Kp'],\n",
    "    sampling_step=\"PT1S\"\n",
    ")\n",
    "data_track = request.get_between(\n",
    "    start_time=START_TIME,\n",
    "    end_time=END_TIME,\n",
    "    asynchronous=True,\n",
    ").as_xarray()\n",
    "\n",
    "print(data_track)\n",
    "\n",
    "request = SwarmRequest(SERVER_URL)\n",
    "request.set_collection(f\"SW_OPER_MIT{SPACECRAFT}_LP_2F\")\n",
    "request.set_products(\n",
    "    measurements=[],\n",
    "    auxiliaries=['QDLat', 'MLT'],\n",
    ")\n",
    "data_ne_min = request.get_between(\n",
    "    start_time=START_TIME,\n",
    "    end_time=END_TIME,\n",
    "    asynchronous=False,\n",
    ").as_xarray()\n",
    "print(data_ne_min)\n",
    "\n",
    "request = SwarmRequest(SERVER_URL)\n",
    "request.set_collection(f\"SW_OPER_MIT{SPACECRAFT}_LP_2F:ID\")\n",
    "request.set_products(\n",
    "    measurements=['PointType'],\n",
    "    auxiliaries=['QDLat', 'MLT'],\n",
    ")\n",
    "request.set_range_filter('PointType', MIT_LP_TE_PEAK, MIT_LP_TE_PEAK)\n",
    "data_te_peak = request.get_between(\n",
    "    start_time=START_TIME,\n",
    "    end_time=END_TIME,\n",
    "    asynchronous=False,\n",
    ").as_xarray()\n",
    "print(data_te_peak)\n",
    "assert (data_te_peak['PointType'].values == MIT_LP_TE_PEAK).all()\n",
    "\n",
    "request = SwarmRequest(SERVER_URL)\n",
    "request.set_collection(f\"SW_OPER_MIT{SPACECRAFT}TEC_2F\")\n",
    "request.set_products(\n",
    "    measurements=[],\n",
    "    auxiliaries=['QDLat', 'MLT'],\n",
    ")\n",
    "data_tec_min = request.get_between(\n",
    "    start_time=START_TIME,\n",
    "    end_time=END_TIME,\n",
    "    asynchronous=False,\n",
    ").as_xarray()\n",
    "print(data_tec_min)\n",
    "\n",
    "request = SwarmRequest(SERVER_URL)\n",
    "request.set_collection(f\"SW_OPER_PPI{SPACECRAFT}FAC_2F:ID\")\n",
    "request.set_products(\n",
    "    measurements=[],\n",
    "    auxiliaries=['QDLat', 'MLT'],\n",
    ")\n",
    "data_ssfac = request.get_between(\n",
    "    start_time=START_TIME,\n",
    "    end_time=END_TIME,\n",
    "    asynchronous=False,\n",
    ").as_xarray()\n",
    "print(data_ssfac)\n"
   ]
  },
  {
   "cell_type": "code",
   "execution_count": null,
   "id": "8065ce9c-3dac-48bd-a2f3-cbae50d6aef8",
   "metadata": {},
   "outputs": [],
   "source": [
    "from numpy import isnan, logical_and, abs as aabs, cumsum, stack, pi, concatenate, timedelta64\n",
    "from matplotlib.pyplot import figure, subplot, show\n",
    "from scipy.interpolate import interp1d\n",
    "from cartopy.feature import LAND, OCEAN, COASTLINE\n",
    "from cartopy.crs import Mollweide, Orthographic, PlateCarree\n",
    "%matplotlib inline\n",
    "\n",
    "# orbit from MAGx_LR products\n",
    "\n",
    "\n",
    "def _plot_maps(ax, north=None):\n",
    "    gl = ax.gridlines(crs=PlateCarree(), draw_labels=False, linewidth=0, color='silver', alpha=0.5, linestyle='--')\n",
    "    ax.add_feature(LAND, facecolor=(1.0, 1.0, 0.9))\n",
    "    ax.add_feature(OCEAN, facecolor=(0.9, 1.0, 1.0))\n",
    "    ax.add_feature(COASTLINE, edgecolor='silver')\n",
    "\n",
    "    o_lat = data_track['Latitude'].values\n",
    "    o_lon = data_track['Longitude'].values\n",
    "    if north is not None:\n",
    "        h = 1 if north else -1\n",
    "        mask = o_lat*h > 0\n",
    "    else:\n",
    "        mask = Ellipsis\n",
    "    h_track = ax.plot(o_lon[mask], o_lat[mask], '.', markersize=0.5, color='silver', transform=PlateCarree())\n",
    "    \n",
    "    h_tec_min, = ax.plot(data_tec_min['Longitude'].values, data_tec_min['Latitude'].values, 'v', color='tab:cyan', transform=PlateCarree())\n",
    "    h_ne_min, = ax.plot(data_ne_min['Longitude'].values, data_ne_min['Latitude'].values, 'v', color='tab:blue', transform=PlateCarree())\n",
    "    h_te_peak, = ax.plot(data_te_peak['Longitude'].values, data_te_peak['Latitude'].values, '^', color='tab:red', transform=PlateCarree())\n",
    "    h_ssfac, = ax.plot(data_ssfac['Longitude'].values, data_ssfac['Latitude'].values, 'o', color='tab:green', ms=3, transform=PlateCarree())\n",
    "\n",
    "    ax.legend(\n",
    "    [\n",
    "        h_ne_min,\n",
    "        h_te_peak,\n",
    "        h_tec_min,\n",
    "        h_ssfac,\n",
    "    ],\n",
    "    [\n",
    "        'Ne minimum',\n",
    "        'Te peak',\n",
    "        'TEC minimum',\n",
    "        'SSFAC boundary'\n",
    "    ],\n",
    ")\n",
    "    \n",
    "def plot_maps_ortho(ax, north):   \n",
    "    ax.set_xlim([-6378073.21863, 6378073.21863])\n",
    "    ax.set_ylim([-6378073.21863, 6378073.21863])\n",
    "    _plot_maps(ax, north)\n",
    "\n",
    "def plot_maps(ax):\n",
    "    _plot_maps(ax)\n",
    "\n",
    "        \n",
    "        \n",
    "fig = figure(figsize=(18, 9), dpi=100)\n",
    "plot_maps_ortho(subplot(1, 2, 1, projection=Orthographic(0, 90)), north=True)\n",
    "plot_maps_ortho(subplot(1, 2, 2, projection=Orthographic(0, -90)), north=False)\n",
    "\n",
    "fig = figure(figsize=(18, 9), dpi=100)\n",
    "plot_maps(subplot(1, 1, 1, projection=PlateCarree()))\n",
    "\n",
    "\n",
    "def plot_mlt(ax, north=True):\n",
    "    ax.set_theta_zero_location('S')\n",
    "    h = 1 if north else -1\n",
    "    \n",
    "    def _plot(x, y, *args, **kwargs):\n",
    "        return ax.plot(x*(pi/12), 90 - y*h, *args, **kwargs)\n",
    "\n",
    "    o_lat_qd = data_track['QDLat'].values\n",
    "    o_mlt = data_track['MLT'].values\n",
    "    if north is not None:\n",
    "        h = 1 if north else -1\n",
    "        mask = o_lat_qd*h > 0\n",
    "    else:\n",
    "        mask = Ellipsis\n",
    "    h_track = _plot(o_mlt[mask], o_lat_qd[mask], '.', markersize=0.5, color='silver')\n",
    "    \n",
    "    h_tec_min, = _plot(data_tec_min['MLT'].values, data_tec_min['QDLat'].values, 'v', color='tab:cyan')\n",
    "    h_ne_min, = _plot(data_ne_min['MLT'].values, data_ne_min['QDLat'].values, 'v', color='tab:blue')\n",
    "    h_te_peak, = _plot(data_te_peak['MLT'].values, data_te_peak['QDLat'].values, '^', color='tab:red')\n",
    "    h_ssfac, = _plot(data_ssfac['MLT'].values, data_ssfac['QDLat'].values, 'o', color='tab:green', ms=3)\n",
    "    \n",
    "    ax.set_ylim(0, 50)\n",
    "    ax.set_xticklabels(['%2.2i' % (x*12/pi) for x in ax.get_xticks()])\n",
    "    ax.set_yticklabels(['%.0f' % ((90 - y)*h) for y in ax.get_yticks()])\n",
    "    #ax.plot(o_lon[o_lat*h > 0], o_lat[o_lat*h > 0], '-', color='silver', transform=PlateCarree())\n",
    "    \n",
    "    ax.legend(\n",
    "    [\n",
    "        h_ne_min,\n",
    "        h_te_peak,\n",
    "        h_tec_min,\n",
    "        h_ssfac,\n",
    "    ],\n",
    "    [\n",
    "        'Ne minimum',\n",
    "        'Te peak',\n",
    "        'TEC minimum',\n",
    "        'SSFAC boundary'\n",
    "    ],\n",
    ")\n",
    "\n",
    "fig = figure(figsize=(18, 9), dpi=100)\n",
    "plot_mlt(subplot(1, 2, 1, projection='polar'), north=True)\n",
    "plot_mlt(subplot(1, 2, 2, projection='polar'), north=False)"
   ]
  }
 ],
 "metadata": {
  "kernelspec": {
   "display_name": "Python 3 (ipykernel)",
   "language": "python",
   "name": "python3"
  },
  "language_info": {
   "codemirror_mode": {
    "name": "ipython",
    "version": 3
   },
   "file_extension": ".py",
   "mimetype": "text/x-python",
   "name": "python",
   "nbconvert_exporter": "python",
   "pygments_lexer": "ipython3",
   "version": "3.9.7"
  }
 },
 "nbformat": 4,
 "nbformat_minor": 5
}
